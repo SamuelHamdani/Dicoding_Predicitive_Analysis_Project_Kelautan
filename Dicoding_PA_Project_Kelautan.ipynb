{
  "nbformat": 4,
  "nbformat_minor": 0,
  "metadata": {
    "colab": {
      "provenance": []
    },
    "kernelspec": {
      "name": "python3",
      "display_name": "Python 3"
    },
    "language_info": {
      "name": "python"
    }
  },
  "cells": [
    {
      "cell_type": "markdown",
      "source": [
        "# Laporan Proyek Awal Machine Learning - Samuel Christian Hamdani"
      ],
      "metadata": {
        "id": "EOKYERU-hWC3"
      }
    },
    {
      "cell_type": "markdown",
      "source": [
        "## Domain Proyek\n",
        "\n",
        "\n",
        "---\n",
        "\n",
        "###Latar Belakang\n",
        "Kualitas air kolam merupakan faktor krusial dalam keberhasilan budidaya ikan. Parameter seperti pH, suhu, dan tingkat kekeruhan air sangat mempengaruhi kesehatan dan pertumbuhan ikan. Kondisi air yang tidak sesuai dapat menyebabkan stres, penyakit, bahkan kematian pada ikan. Oleh karena itu, pemantauan kualitas air secara berkala sangat diperlukan untuk menjaga keberlangsungan ekosistem kolam dan meningkatkan produktivitas budidaya.\n",
        "\n",
        "Namun, pengawasan kualitas air secara manual membutuhkan waktu, tenaga, dan keterampilan teknis yang tidak sedikit. Di sisi lain, perkembangan teknologi analisis data dan machine learning saat ini memungkinkan pemanfaatan data historis untuk membangun model prediktif yang dapat membantu dalam pengambilan keputusan secara cepat dan akurat.\n",
        "\n",
        "Melalui proyek ini, dikembangkan sebuah model klasifikasi prediktif untuk menilai tingkat kualitas air kolam (Baik, Cukup, atau Buruk) berdasarkan data parameter fisik-kimia air dan jenis ikan yang dibudidayakan. Model ini dibangun menggunakan beberapa algoritma machine learning, seperti K-Nearest Neighbor (KNN), Random Forest, dan AdaBoost, untuk membandingkan performa masing-masing dan menentukan algoritma yang paling tepat digunakan dalam konteks ini.\n",
        "\n",
        "Hasil dari proyek ini diharapkan dapat memberikan solusi berbasis data untuk mempermudah pemilik kolam dalam memantau kualitas air dan mengambil tindakan preventif secara efisien, sehingga mendukung praktik budidaya ikan yang lebih sehat, produktif, dan berkelanjutan.\n",
        "\n",
        "###Problem Statements\n",
        "\n",
        "\n",
        "1.   Kualitas air kolam yang buruk dapat menyebabkan pertumbuhan ikan terganggu, stres, bahkan kematian, yang berdampak pada kerugian ekonomi bagi pembudidaya.\n",
        "2.   Pemantauan kualitas air secara manual membutuhkan waktu, tenaga, dan keahlian yang tidak semua pemilik kolam miliki.\n",
        "\n",
        "###Goals\n",
        "\n",
        "Mengembangkan sebuah model dalam memprediksi tingkat kualitas air kolam berdasarkan parameter pH, suhu, kekeruhan, dan jenis ikan. Dengan adanya model ini, pemilik kolam dapat memperoleh informasi prediktif secara langsung dari data pemantauan, sehingga dapat mengambil tindakan lebih cepat dan efisien dalam menjaga kualitas air kolam dan kesehatan ikan.\n",
        "\n",
        "\n",
        "###Solution Statements\n",
        "1. Mengembangkan model **klasifikasi** prediktif dengan pendekatan supervised learning untuk mengkategorikan kualitas air kolam menjadi Baik, Cukup, dan Buruk.\n",
        "2. Melatih dan menguji tiga algoritma machine learning (KNN, Random Forest, dan AdaBoost) dengan dataset kualitas air untuk memperoleh performa terbaik."
      ],
      "metadata": {
        "id": "LhuFwXe_hkZp"
      }
    },
    {
      "cell_type": "markdown",
      "source": [
        "#Data Understanding\n",
        "\n",
        "\n",
        "---\n",
        "\n",
        "\n",
        "\n",
        "Pada tahap ini dilakukan eksplorasi awal terhadap data yang digunakan untuk membangun model prediktif. Dataset yang digunakan berisi beberapa fitur penting yang memengaruhi kualitas air kolam dan jenis ikan yang dibudidayakan.\n",
        "\n",
        "## Sumber Data\n",
        "Data diperoleh dari pengukuran parameter air kolam yang meliputi:\n",
        "1. Jenis ikan yang dibudidayakan\n",
        "2. Nilai pH air\n",
        "3. Suhu air (dalam derajat Celsius)\n",
        "4. Tingkat kekeruhan air (dalam NTU atau satuan sejenis)\n",
        "5. Label kualitas air (Baik, Cukup, Buruk)\n",
        "\n",
        "## Deskripsi Fitur\n",
        "Berikut adalah penjelasan masing-masing fitur dalam dataset:\n",
        "1. Jenis_Ikan (categorical): Menyatakan jenis ikan yang dibudidayakan di kolam.\n",
        "2. pH (numerical): Mengukur tingkat keasaman air kolam. Nilai pH yang ideal biasanya berada pada kisaran 6,5–8,5.\n",
        "3. Suhu (numerical): Suhu air kolam yang berpengaruh terhadap metabolisme ikan. Suhu optimal umumnya sekitar 20–30°C, tergantung jenis ikan.\n",
        "4. Kekeruhan (numerical): Menunjukkan kejernihan air kolam. Air yang terlalu keruh dapat menghambat fotosintesis dan membahayakan ikan.\n",
        "5. Kualitas_Air (categorical – target): Label hasil pengukuran kualitas air kolam, diklasifikasikan menjadi tiga kelas: Baik, Cukup, dan Buruk.\n",
        "\n",
        "## Proses Eksplorasi Awal\n",
        "Pada bagian ini, dilakukan beberapa tahapan awal yang dilakukan sebelum pengembangan model, diantaranya:\n",
        "1. Load Dataset\n",
        "\n",
        "  Dataset diupload dari google drive yang dimana sudah didownload dari sumber (Kaggle) agar dapat digunakan untuk identifikasi tingkat kualitas air yang menyimpan data seperti jenis ikan, tingkat ph, suhu, dan tingkat kekeruhan\n",
        "\n",
        "2. Pemeriksaan Nilai Kosong\n",
        "\n",
        "  Dataset diperiksa untuk mengetahui apakah terdapat nilai yang hilang atau tidak valid. Jika ditemukan, dilakukan penanganan seperti imputasi atau penghapusan baris.\n",
        "\n",
        "3. Distribusi Data\n",
        "\n",
        "  Dilakukan visualisasi distribusi nilai untuk fitur numerik (pH, suhu, kekeruhan) untuk memahami pola dan outlier.\n",
        "\n",
        "4. Analisis Korelasi (Univariate Analysis)\n",
        "\n",
        "  Matriks korelasi dibuat untuk melihat hubungan antar variabel numerik serta potensi pengaruhnya terhadap kualitas air.\n",
        "\n",
        "5. Analisis Fitur Kategorikal (Multivariate Analysis)\n",
        "\n",
        "  Frekuensi jenis ikan dan distribusinya terhadap label kualitas air dianalisis untuk mengetahui pola yang mungkin muncul.\n",
        "\n",
        "Sumber Dataset : https://www.kaggle.com/datasets/monirmukul/realtime-pond-water-dataset-for-fish-farming?select=realfishdataset.csv\n",
        "\n",
        "Referensi:\n",
        "https://www.sciencedirect.com/science/article/pii/S2352340923008302"
      ],
      "metadata": {
        "id": "iq7JRpAGmGrU"
      }
    },
    {
      "cell_type": "markdown",
      "source": [
        "###Import Library\n",
        "Hal pertama yang dilakukan sebelum membuat model adalah mengimpor pustaka (library) yang digunakan dalam file ini berupa pandas, seaborn, matplotlib, dan sklearn"
      ],
      "metadata": {
        "id": "GmZY1Xekogx0"
      }
    },
    {
      "cell_type": "code",
      "execution_count": null,
      "metadata": {
        "id": "w5ka7TAlKHGX"
      },
      "outputs": [],
      "source": [
        "import pandas as pd\n",
        "import seaborn as sns\n",
        "import matplotlib.pyplot as plt\n",
        "from sklearn.preprocessing import LabelEncoder\n",
        "from sklearn.decomposition import PCA\n",
        "from sklearn.preprocessing import StandardScaler\n",
        "from sklearn.model_selection import train_test_split\n",
        "from sklearn.neighbors import KNeighborsClassifier\n",
        "from sklearn.ensemble import RandomForestClassifier\n",
        "from sklearn.metrics import classification_report, accuracy_score"
      ]
    },
    {
      "cell_type": "markdown",
      "source": [
        "###Load Dataset\n",
        "Selanjutnya, dataset diupload terlebih dahulu menggunakan fungsi 'read_csv' dari library pandas untuk memasukkan dataset kedalam environment agar digunakan dalam pengembangan model."
      ],
      "metadata": {
        "id": "wKtmabatoZGD"
      }
    },
    {
      "cell_type": "code",
      "source": [
        "#Load Dataset\n",
        "df = pd.read_csv('/content/drive/MyDrive/Dicoding_ML/Predictive_analytics/realfishdataset.csv')\n",
        "df"
      ],
      "metadata": {
        "colab": {
          "base_uri": "https://localhost:8080/",
          "height": 424
        },
        "id": "Hk-6BmGrOnCF",
        "outputId": "b63a7c1d-3f1f-45d6-91dd-ce28d036b84f"
      },
      "execution_count": null,
      "outputs": [
        {
          "output_type": "execute_result",
          "data": {
            "text/plain": [
              "       ph  temperature  turbidity   fish\n",
              "0    6.00        27.00       4.00  katla\n",
              "1    7.60        28.00       5.90   sing\n",
              "2    7.80        27.00       5.50   sing\n",
              "3    6.50        31.00       5.50  katla\n",
              "4    8.20        27.00       8.50  prawn\n",
              "..    ...          ...        ...    ...\n",
              "586  7.07        21.12       3.57   sing\n",
              "587  6.99        21.19       3.56   sing\n",
              "588  6.87        21.00       3.56   sing\n",
              "589  6.68        21.19       3.58   sing\n",
              "590  6.95        21.12       3.58   sing\n",
              "\n",
              "[591 rows x 4 columns]"
            ],
            "text/html": [
              "\n",
              "  <div id=\"df-5bd456f2-dd60-4a1f-bda5-a531cb4e3f84\" class=\"colab-df-container\">\n",
              "    <div>\n",
              "<style scoped>\n",
              "    .dataframe tbody tr th:only-of-type {\n",
              "        vertical-align: middle;\n",
              "    }\n",
              "\n",
              "    .dataframe tbody tr th {\n",
              "        vertical-align: top;\n",
              "    }\n",
              "\n",
              "    .dataframe thead th {\n",
              "        text-align: right;\n",
              "    }\n",
              "</style>\n",
              "<table border=\"1\" class=\"dataframe\">\n",
              "  <thead>\n",
              "    <tr style=\"text-align: right;\">\n",
              "      <th></th>\n",
              "      <th>ph</th>\n",
              "      <th>temperature</th>\n",
              "      <th>turbidity</th>\n",
              "      <th>fish</th>\n",
              "    </tr>\n",
              "  </thead>\n",
              "  <tbody>\n",
              "    <tr>\n",
              "      <th>0</th>\n",
              "      <td>6.00</td>\n",
              "      <td>27.00</td>\n",
              "      <td>4.00</td>\n",
              "      <td>katla</td>\n",
              "    </tr>\n",
              "    <tr>\n",
              "      <th>1</th>\n",
              "      <td>7.60</td>\n",
              "      <td>28.00</td>\n",
              "      <td>5.90</td>\n",
              "      <td>sing</td>\n",
              "    </tr>\n",
              "    <tr>\n",
              "      <th>2</th>\n",
              "      <td>7.80</td>\n",
              "      <td>27.00</td>\n",
              "      <td>5.50</td>\n",
              "      <td>sing</td>\n",
              "    </tr>\n",
              "    <tr>\n",
              "      <th>3</th>\n",
              "      <td>6.50</td>\n",
              "      <td>31.00</td>\n",
              "      <td>5.50</td>\n",
              "      <td>katla</td>\n",
              "    </tr>\n",
              "    <tr>\n",
              "      <th>4</th>\n",
              "      <td>8.20</td>\n",
              "      <td>27.00</td>\n",
              "      <td>8.50</td>\n",
              "      <td>prawn</td>\n",
              "    </tr>\n",
              "    <tr>\n",
              "      <th>...</th>\n",
              "      <td>...</td>\n",
              "      <td>...</td>\n",
              "      <td>...</td>\n",
              "      <td>...</td>\n",
              "    </tr>\n",
              "    <tr>\n",
              "      <th>586</th>\n",
              "      <td>7.07</td>\n",
              "      <td>21.12</td>\n",
              "      <td>3.57</td>\n",
              "      <td>sing</td>\n",
              "    </tr>\n",
              "    <tr>\n",
              "      <th>587</th>\n",
              "      <td>6.99</td>\n",
              "      <td>21.19</td>\n",
              "      <td>3.56</td>\n",
              "      <td>sing</td>\n",
              "    </tr>\n",
              "    <tr>\n",
              "      <th>588</th>\n",
              "      <td>6.87</td>\n",
              "      <td>21.00</td>\n",
              "      <td>3.56</td>\n",
              "      <td>sing</td>\n",
              "    </tr>\n",
              "    <tr>\n",
              "      <th>589</th>\n",
              "      <td>6.68</td>\n",
              "      <td>21.19</td>\n",
              "      <td>3.58</td>\n",
              "      <td>sing</td>\n",
              "    </tr>\n",
              "    <tr>\n",
              "      <th>590</th>\n",
              "      <td>6.95</td>\n",
              "      <td>21.12</td>\n",
              "      <td>3.58</td>\n",
              "      <td>sing</td>\n",
              "    </tr>\n",
              "  </tbody>\n",
              "</table>\n",
              "<p>591 rows × 4 columns</p>\n",
              "</div>\n",
              "    <div class=\"colab-df-buttons\">\n",
              "\n",
              "  <div class=\"colab-df-container\">\n",
              "    <button class=\"colab-df-convert\" onclick=\"convertToInteractive('df-5bd456f2-dd60-4a1f-bda5-a531cb4e3f84')\"\n",
              "            title=\"Convert this dataframe to an interactive table.\"\n",
              "            style=\"display:none;\">\n",
              "\n",
              "  <svg xmlns=\"http://www.w3.org/2000/svg\" height=\"24px\" viewBox=\"0 -960 960 960\">\n",
              "    <path d=\"M120-120v-720h720v720H120Zm60-500h600v-160H180v160Zm220 220h160v-160H400v160Zm0 220h160v-160H400v160ZM180-400h160v-160H180v160Zm440 0h160v-160H620v160ZM180-180h160v-160H180v160Zm440 0h160v-160H620v160Z\"/>\n",
              "  </svg>\n",
              "    </button>\n",
              "\n",
              "  <style>\n",
              "    .colab-df-container {\n",
              "      display:flex;\n",
              "      gap: 12px;\n",
              "    }\n",
              "\n",
              "    .colab-df-convert {\n",
              "      background-color: #E8F0FE;\n",
              "      border: none;\n",
              "      border-radius: 50%;\n",
              "      cursor: pointer;\n",
              "      display: none;\n",
              "      fill: #1967D2;\n",
              "      height: 32px;\n",
              "      padding: 0 0 0 0;\n",
              "      width: 32px;\n",
              "    }\n",
              "\n",
              "    .colab-df-convert:hover {\n",
              "      background-color: #E2EBFA;\n",
              "      box-shadow: 0px 1px 2px rgba(60, 64, 67, 0.3), 0px 1px 3px 1px rgba(60, 64, 67, 0.15);\n",
              "      fill: #174EA6;\n",
              "    }\n",
              "\n",
              "    .colab-df-buttons div {\n",
              "      margin-bottom: 4px;\n",
              "    }\n",
              "\n",
              "    [theme=dark] .colab-df-convert {\n",
              "      background-color: #3B4455;\n",
              "      fill: #D2E3FC;\n",
              "    }\n",
              "\n",
              "    [theme=dark] .colab-df-convert:hover {\n",
              "      background-color: #434B5C;\n",
              "      box-shadow: 0px 1px 3px 1px rgba(0, 0, 0, 0.15);\n",
              "      filter: drop-shadow(0px 1px 2px rgba(0, 0, 0, 0.3));\n",
              "      fill: #FFFFFF;\n",
              "    }\n",
              "  </style>\n",
              "\n",
              "    <script>\n",
              "      const buttonEl =\n",
              "        document.querySelector('#df-5bd456f2-dd60-4a1f-bda5-a531cb4e3f84 button.colab-df-convert');\n",
              "      buttonEl.style.display =\n",
              "        google.colab.kernel.accessAllowed ? 'block' : 'none';\n",
              "\n",
              "      async function convertToInteractive(key) {\n",
              "        const element = document.querySelector('#df-5bd456f2-dd60-4a1f-bda5-a531cb4e3f84');\n",
              "        const dataTable =\n",
              "          await google.colab.kernel.invokeFunction('convertToInteractive',\n",
              "                                                    [key], {});\n",
              "        if (!dataTable) return;\n",
              "\n",
              "        const docLinkHtml = 'Like what you see? Visit the ' +\n",
              "          '<a target=\"_blank\" href=https://colab.research.google.com/notebooks/data_table.ipynb>data table notebook</a>'\n",
              "          + ' to learn more about interactive tables.';\n",
              "        element.innerHTML = '';\n",
              "        dataTable['output_type'] = 'display_data';\n",
              "        await google.colab.output.renderOutput(dataTable, element);\n",
              "        const docLink = document.createElement('div');\n",
              "        docLink.innerHTML = docLinkHtml;\n",
              "        element.appendChild(docLink);\n",
              "      }\n",
              "    </script>\n",
              "  </div>\n",
              "\n",
              "\n",
              "    <div id=\"df-bc9478ce-be98-4362-9ff8-7d457d07470e\">\n",
              "      <button class=\"colab-df-quickchart\" onclick=\"quickchart('df-bc9478ce-be98-4362-9ff8-7d457d07470e')\"\n",
              "                title=\"Suggest charts\"\n",
              "                style=\"display:none;\">\n",
              "\n",
              "<svg xmlns=\"http://www.w3.org/2000/svg\" height=\"24px\"viewBox=\"0 0 24 24\"\n",
              "     width=\"24px\">\n",
              "    <g>\n",
              "        <path d=\"M19 3H5c-1.1 0-2 .9-2 2v14c0 1.1.9 2 2 2h14c1.1 0 2-.9 2-2V5c0-1.1-.9-2-2-2zM9 17H7v-7h2v7zm4 0h-2V7h2v10zm4 0h-2v-4h2v4z\"/>\n",
              "    </g>\n",
              "</svg>\n",
              "      </button>\n",
              "\n",
              "<style>\n",
              "  .colab-df-quickchart {\n",
              "      --bg-color: #E8F0FE;\n",
              "      --fill-color: #1967D2;\n",
              "      --hover-bg-color: #E2EBFA;\n",
              "      --hover-fill-color: #174EA6;\n",
              "      --disabled-fill-color: #AAA;\n",
              "      --disabled-bg-color: #DDD;\n",
              "  }\n",
              "\n",
              "  [theme=dark] .colab-df-quickchart {\n",
              "      --bg-color: #3B4455;\n",
              "      --fill-color: #D2E3FC;\n",
              "      --hover-bg-color: #434B5C;\n",
              "      --hover-fill-color: #FFFFFF;\n",
              "      --disabled-bg-color: #3B4455;\n",
              "      --disabled-fill-color: #666;\n",
              "  }\n",
              "\n",
              "  .colab-df-quickchart {\n",
              "    background-color: var(--bg-color);\n",
              "    border: none;\n",
              "    border-radius: 50%;\n",
              "    cursor: pointer;\n",
              "    display: none;\n",
              "    fill: var(--fill-color);\n",
              "    height: 32px;\n",
              "    padding: 0;\n",
              "    width: 32px;\n",
              "  }\n",
              "\n",
              "  .colab-df-quickchart:hover {\n",
              "    background-color: var(--hover-bg-color);\n",
              "    box-shadow: 0 1px 2px rgba(60, 64, 67, 0.3), 0 1px 3px 1px rgba(60, 64, 67, 0.15);\n",
              "    fill: var(--button-hover-fill-color);\n",
              "  }\n",
              "\n",
              "  .colab-df-quickchart-complete:disabled,\n",
              "  .colab-df-quickchart-complete:disabled:hover {\n",
              "    background-color: var(--disabled-bg-color);\n",
              "    fill: var(--disabled-fill-color);\n",
              "    box-shadow: none;\n",
              "  }\n",
              "\n",
              "  .colab-df-spinner {\n",
              "    border: 2px solid var(--fill-color);\n",
              "    border-color: transparent;\n",
              "    border-bottom-color: var(--fill-color);\n",
              "    animation:\n",
              "      spin 1s steps(1) infinite;\n",
              "  }\n",
              "\n",
              "  @keyframes spin {\n",
              "    0% {\n",
              "      border-color: transparent;\n",
              "      border-bottom-color: var(--fill-color);\n",
              "      border-left-color: var(--fill-color);\n",
              "    }\n",
              "    20% {\n",
              "      border-color: transparent;\n",
              "      border-left-color: var(--fill-color);\n",
              "      border-top-color: var(--fill-color);\n",
              "    }\n",
              "    30% {\n",
              "      border-color: transparent;\n",
              "      border-left-color: var(--fill-color);\n",
              "      border-top-color: var(--fill-color);\n",
              "      border-right-color: var(--fill-color);\n",
              "    }\n",
              "    40% {\n",
              "      border-color: transparent;\n",
              "      border-right-color: var(--fill-color);\n",
              "      border-top-color: var(--fill-color);\n",
              "    }\n",
              "    60% {\n",
              "      border-color: transparent;\n",
              "      border-right-color: var(--fill-color);\n",
              "    }\n",
              "    80% {\n",
              "      border-color: transparent;\n",
              "      border-right-color: var(--fill-color);\n",
              "      border-bottom-color: var(--fill-color);\n",
              "    }\n",
              "    90% {\n",
              "      border-color: transparent;\n",
              "      border-bottom-color: var(--fill-color);\n",
              "    }\n",
              "  }\n",
              "</style>\n",
              "\n",
              "      <script>\n",
              "        async function quickchart(key) {\n",
              "          const quickchartButtonEl =\n",
              "            document.querySelector('#' + key + ' button');\n",
              "          quickchartButtonEl.disabled = true;  // To prevent multiple clicks.\n",
              "          quickchartButtonEl.classList.add('colab-df-spinner');\n",
              "          try {\n",
              "            const charts = await google.colab.kernel.invokeFunction(\n",
              "                'suggestCharts', [key], {});\n",
              "          } catch (error) {\n",
              "            console.error('Error during call to suggestCharts:', error);\n",
              "          }\n",
              "          quickchartButtonEl.classList.remove('colab-df-spinner');\n",
              "          quickchartButtonEl.classList.add('colab-df-quickchart-complete');\n",
              "        }\n",
              "        (() => {\n",
              "          let quickchartButtonEl =\n",
              "            document.querySelector('#df-bc9478ce-be98-4362-9ff8-7d457d07470e button');\n",
              "          quickchartButtonEl.style.display =\n",
              "            google.colab.kernel.accessAllowed ? 'block' : 'none';\n",
              "        })();\n",
              "      </script>\n",
              "    </div>\n",
              "\n",
              "  <div id=\"id_d2467999-16b2-46ea-a74c-cb45c5625d65\">\n",
              "    <style>\n",
              "      .colab-df-generate {\n",
              "        background-color: #E8F0FE;\n",
              "        border: none;\n",
              "        border-radius: 50%;\n",
              "        cursor: pointer;\n",
              "        display: none;\n",
              "        fill: #1967D2;\n",
              "        height: 32px;\n",
              "        padding: 0 0 0 0;\n",
              "        width: 32px;\n",
              "      }\n",
              "\n",
              "      .colab-df-generate:hover {\n",
              "        background-color: #E2EBFA;\n",
              "        box-shadow: 0px 1px 2px rgba(60, 64, 67, 0.3), 0px 1px 3px 1px rgba(60, 64, 67, 0.15);\n",
              "        fill: #174EA6;\n",
              "      }\n",
              "\n",
              "      [theme=dark] .colab-df-generate {\n",
              "        background-color: #3B4455;\n",
              "        fill: #D2E3FC;\n",
              "      }\n",
              "\n",
              "      [theme=dark] .colab-df-generate:hover {\n",
              "        background-color: #434B5C;\n",
              "        box-shadow: 0px 1px 3px 1px rgba(0, 0, 0, 0.15);\n",
              "        filter: drop-shadow(0px 1px 2px rgba(0, 0, 0, 0.3));\n",
              "        fill: #FFFFFF;\n",
              "      }\n",
              "    </style>\n",
              "    <button class=\"colab-df-generate\" onclick=\"generateWithVariable('df')\"\n",
              "            title=\"Generate code using this dataframe.\"\n",
              "            style=\"display:none;\">\n",
              "\n",
              "  <svg xmlns=\"http://www.w3.org/2000/svg\" height=\"24px\"viewBox=\"0 0 24 24\"\n",
              "       width=\"24px\">\n",
              "    <path d=\"M7,19H8.4L18.45,9,17,7.55,7,17.6ZM5,21V16.75L18.45,3.32a2,2,0,0,1,2.83,0l1.4,1.43a1.91,1.91,0,0,1,.58,1.4,1.91,1.91,0,0,1-.58,1.4L9.25,21ZM18.45,9,17,7.55Zm-12,3A5.31,5.31,0,0,0,4.9,8.1,5.31,5.31,0,0,0,1,6.5,5.31,5.31,0,0,0,4.9,4.9,5.31,5.31,0,0,0,6.5,1,5.31,5.31,0,0,0,8.1,4.9,5.31,5.31,0,0,0,12,6.5,5.46,5.46,0,0,0,6.5,12Z\"/>\n",
              "  </svg>\n",
              "    </button>\n",
              "    <script>\n",
              "      (() => {\n",
              "      const buttonEl =\n",
              "        document.querySelector('#id_d2467999-16b2-46ea-a74c-cb45c5625d65 button.colab-df-generate');\n",
              "      buttonEl.style.display =\n",
              "        google.colab.kernel.accessAllowed ? 'block' : 'none';\n",
              "\n",
              "      buttonEl.onclick = () => {\n",
              "        google.colab.notebook.generateWithVariable('df');\n",
              "      }\n",
              "      })();\n",
              "    </script>\n",
              "  </div>\n",
              "\n",
              "    </div>\n",
              "  </div>\n"
            ],
            "application/vnd.google.colaboratory.intrinsic+json": {
              "type": "dataframe",
              "variable_name": "df",
              "summary": "{\n  \"name\": \"df\",\n  \"rows\": 591,\n  \"fields\": [\n    {\n      \"column\": \"ph\",\n      \"properties\": {\n        \"dtype\": \"number\",\n        \"std\": 0.810587625493595,\n        \"min\": 5.5,\n        \"max\": 9.0,\n        \"num_unique_values\": 91,\n        \"samples\": [\n          8.38,\n          8.1,\n          8.73\n        ],\n        \"semantic_type\": \"\",\n        \"description\": \"\"\n      }\n    },\n    {\n      \"column\": \"temperature\",\n      \"properties\": {\n        \"dtype\": \"number\",\n        \"std\": 4.536611894796786,\n        \"min\": 4.0,\n        \"max\": 35.0,\n        \"num_unique_values\": 51,\n        \"samples\": [\n          21.44,\n          21.06,\n          21.25\n        ],\n        \"semantic_type\": \"\",\n        \"description\": \"\"\n      }\n    },\n    {\n      \"column\": \"turbidity\",\n      \"properties\": {\n        \"dtype\": \"number\",\n        \"std\": 2.169061844050913,\n        \"min\": 1.0,\n        \"max\": 15.8,\n        \"num_unique_values\": 108,\n        \"samples\": [\n          14.8,\n          5.3,\n          6.0\n        ],\n        \"semantic_type\": \"\",\n        \"description\": \"\"\n      }\n    },\n    {\n      \"column\": \"fish\",\n      \"properties\": {\n        \"dtype\": \"category\",\n        \"num_unique_values\": 11,\n        \"samples\": [\n          \"pangas\",\n          \"katla\",\n          \"magur\"\n        ],\n        \"semantic_type\": \"\",\n        \"description\": \"\"\n      }\n    }\n  ]\n}"
            }
          },
          "metadata": {},
          "execution_count": 2
        }
      ]
    },
    {
      "cell_type": "markdown",
      "source": [
        "Dari hasil info dataset diatas, terdapat 4 kolom yang menyimpan data jenis ikan, tingkat ph, suhu, dan kekeruhan air sebanyak 591 data. Tingkat kualitas air belum tersimpan pada dataset yang berarti akan dilakukan proses pemberian tingkat kualitas di tahap selanjutnya."
      ],
      "metadata": {
        "id": "owz0XhAbpJpT"
      }
    },
    {
      "cell_type": "code",
      "source": [
        "df.info()"
      ],
      "metadata": {
        "colab": {
          "base_uri": "https://localhost:8080/"
        },
        "id": "RBNyuWFMOvFM",
        "outputId": "d26cc687-10ee-4e8d-d85d-9440523c3afe"
      },
      "execution_count": null,
      "outputs": [
        {
          "output_type": "stream",
          "name": "stdout",
          "text": [
            "<class 'pandas.core.frame.DataFrame'>\n",
            "RangeIndex: 591 entries, 0 to 590\n",
            "Data columns (total 4 columns):\n",
            " #   Column       Non-Null Count  Dtype  \n",
            "---  ------       --------------  -----  \n",
            " 0   ph           591 non-null    float64\n",
            " 1   temperature  591 non-null    float64\n",
            " 2   turbidity    591 non-null    float64\n",
            " 3   fish         591 non-null    object \n",
            "dtypes: float64(3), object(1)\n",
            "memory usage: 18.6+ KB\n"
          ]
        }
      ]
    },
    {
      "cell_type": "markdown",
      "source": [
        "Dari output informasi dataset, terdapat informasi dataset berupa:\n",
        "\n",
        "1. Terdapat 1 kolom dengan tipe object, yaitu fish yang menyimpan jenis-jenis ikan\n",
        "2. Terdapat 3 kolom numerik dengan tipe data float64 yaitu: ph, temperature, dan turbidity. Data berikut merupakan fitur numerik yang merupakan hasil pengukuran secara fisik menggunakan arduino dan sensor-sensor."
      ],
      "metadata": {
        "id": "vKxkmpg7PRwI"
      }
    },
    {
      "cell_type": "code",
      "source": [
        "df.describe()"
      ],
      "metadata": {
        "colab": {
          "base_uri": "https://localhost:8080/",
          "height": 300
        },
        "id": "1b_y7-QHOw7j",
        "outputId": "7633cc83-ed5e-4cb7-b796-205340abf54d"
      },
      "execution_count": null,
      "outputs": [
        {
          "output_type": "execute_result",
          "data": {
            "text/plain": [
              "               ph  temperature   turbidity\n",
              "count  591.000000   591.000000  591.000000\n",
              "mean     7.532115    21.789306    4.432944\n",
              "std      0.810588     4.536612    2.169062\n",
              "min      5.500000     4.000000    1.000000\n",
              "25%      6.990000    17.940000    3.480000\n",
              "50%      7.500000    21.060000    3.570000\n",
              "75%      8.200000    24.000000    4.005000\n",
              "max      9.000000    35.000000   15.800000"
            ],
            "text/html": [
              "\n",
              "  <div id=\"df-1284979d-a1e2-44b8-b273-8ceff4f92cda\" class=\"colab-df-container\">\n",
              "    <div>\n",
              "<style scoped>\n",
              "    .dataframe tbody tr th:only-of-type {\n",
              "        vertical-align: middle;\n",
              "    }\n",
              "\n",
              "    .dataframe tbody tr th {\n",
              "        vertical-align: top;\n",
              "    }\n",
              "\n",
              "    .dataframe thead th {\n",
              "        text-align: right;\n",
              "    }\n",
              "</style>\n",
              "<table border=\"1\" class=\"dataframe\">\n",
              "  <thead>\n",
              "    <tr style=\"text-align: right;\">\n",
              "      <th></th>\n",
              "      <th>ph</th>\n",
              "      <th>temperature</th>\n",
              "      <th>turbidity</th>\n",
              "    </tr>\n",
              "  </thead>\n",
              "  <tbody>\n",
              "    <tr>\n",
              "      <th>count</th>\n",
              "      <td>591.000000</td>\n",
              "      <td>591.000000</td>\n",
              "      <td>591.000000</td>\n",
              "    </tr>\n",
              "    <tr>\n",
              "      <th>mean</th>\n",
              "      <td>7.532115</td>\n",
              "      <td>21.789306</td>\n",
              "      <td>4.432944</td>\n",
              "    </tr>\n",
              "    <tr>\n",
              "      <th>std</th>\n",
              "      <td>0.810588</td>\n",
              "      <td>4.536612</td>\n",
              "      <td>2.169062</td>\n",
              "    </tr>\n",
              "    <tr>\n",
              "      <th>min</th>\n",
              "      <td>5.500000</td>\n",
              "      <td>4.000000</td>\n",
              "      <td>1.000000</td>\n",
              "    </tr>\n",
              "    <tr>\n",
              "      <th>25%</th>\n",
              "      <td>6.990000</td>\n",
              "      <td>17.940000</td>\n",
              "      <td>3.480000</td>\n",
              "    </tr>\n",
              "    <tr>\n",
              "      <th>50%</th>\n",
              "      <td>7.500000</td>\n",
              "      <td>21.060000</td>\n",
              "      <td>3.570000</td>\n",
              "    </tr>\n",
              "    <tr>\n",
              "      <th>75%</th>\n",
              "      <td>8.200000</td>\n",
              "      <td>24.000000</td>\n",
              "      <td>4.005000</td>\n",
              "    </tr>\n",
              "    <tr>\n",
              "      <th>max</th>\n",
              "      <td>9.000000</td>\n",
              "      <td>35.000000</td>\n",
              "      <td>15.800000</td>\n",
              "    </tr>\n",
              "  </tbody>\n",
              "</table>\n",
              "</div>\n",
              "    <div class=\"colab-df-buttons\">\n",
              "\n",
              "  <div class=\"colab-df-container\">\n",
              "    <button class=\"colab-df-convert\" onclick=\"convertToInteractive('df-1284979d-a1e2-44b8-b273-8ceff4f92cda')\"\n",
              "            title=\"Convert this dataframe to an interactive table.\"\n",
              "            style=\"display:none;\">\n",
              "\n",
              "  <svg xmlns=\"http://www.w3.org/2000/svg\" height=\"24px\" viewBox=\"0 -960 960 960\">\n",
              "    <path d=\"M120-120v-720h720v720H120Zm60-500h600v-160H180v160Zm220 220h160v-160H400v160Zm0 220h160v-160H400v160ZM180-400h160v-160H180v160Zm440 0h160v-160H620v160ZM180-180h160v-160H180v160Zm440 0h160v-160H620v160Z\"/>\n",
              "  </svg>\n",
              "    </button>\n",
              "\n",
              "  <style>\n",
              "    .colab-df-container {\n",
              "      display:flex;\n",
              "      gap: 12px;\n",
              "    }\n",
              "\n",
              "    .colab-df-convert {\n",
              "      background-color: #E8F0FE;\n",
              "      border: none;\n",
              "      border-radius: 50%;\n",
              "      cursor: pointer;\n",
              "      display: none;\n",
              "      fill: #1967D2;\n",
              "      height: 32px;\n",
              "      padding: 0 0 0 0;\n",
              "      width: 32px;\n",
              "    }\n",
              "\n",
              "    .colab-df-convert:hover {\n",
              "      background-color: #E2EBFA;\n",
              "      box-shadow: 0px 1px 2px rgba(60, 64, 67, 0.3), 0px 1px 3px 1px rgba(60, 64, 67, 0.15);\n",
              "      fill: #174EA6;\n",
              "    }\n",
              "\n",
              "    .colab-df-buttons div {\n",
              "      margin-bottom: 4px;\n",
              "    }\n",
              "\n",
              "    [theme=dark] .colab-df-convert {\n",
              "      background-color: #3B4455;\n",
              "      fill: #D2E3FC;\n",
              "    }\n",
              "\n",
              "    [theme=dark] .colab-df-convert:hover {\n",
              "      background-color: #434B5C;\n",
              "      box-shadow: 0px 1px 3px 1px rgba(0, 0, 0, 0.15);\n",
              "      filter: drop-shadow(0px 1px 2px rgba(0, 0, 0, 0.3));\n",
              "      fill: #FFFFFF;\n",
              "    }\n",
              "  </style>\n",
              "\n",
              "    <script>\n",
              "      const buttonEl =\n",
              "        document.querySelector('#df-1284979d-a1e2-44b8-b273-8ceff4f92cda button.colab-df-convert');\n",
              "      buttonEl.style.display =\n",
              "        google.colab.kernel.accessAllowed ? 'block' : 'none';\n",
              "\n",
              "      async function convertToInteractive(key) {\n",
              "        const element = document.querySelector('#df-1284979d-a1e2-44b8-b273-8ceff4f92cda');\n",
              "        const dataTable =\n",
              "          await google.colab.kernel.invokeFunction('convertToInteractive',\n",
              "                                                    [key], {});\n",
              "        if (!dataTable) return;\n",
              "\n",
              "        const docLinkHtml = 'Like what you see? Visit the ' +\n",
              "          '<a target=\"_blank\" href=https://colab.research.google.com/notebooks/data_table.ipynb>data table notebook</a>'\n",
              "          + ' to learn more about interactive tables.';\n",
              "        element.innerHTML = '';\n",
              "        dataTable['output_type'] = 'display_data';\n",
              "        await google.colab.output.renderOutput(dataTable, element);\n",
              "        const docLink = document.createElement('div');\n",
              "        docLink.innerHTML = docLinkHtml;\n",
              "        element.appendChild(docLink);\n",
              "      }\n",
              "    </script>\n",
              "  </div>\n",
              "\n",
              "\n",
              "    <div id=\"df-0630a579-3b79-40d4-927f-c304794fc276\">\n",
              "      <button class=\"colab-df-quickchart\" onclick=\"quickchart('df-0630a579-3b79-40d4-927f-c304794fc276')\"\n",
              "                title=\"Suggest charts\"\n",
              "                style=\"display:none;\">\n",
              "\n",
              "<svg xmlns=\"http://www.w3.org/2000/svg\" height=\"24px\"viewBox=\"0 0 24 24\"\n",
              "     width=\"24px\">\n",
              "    <g>\n",
              "        <path d=\"M19 3H5c-1.1 0-2 .9-2 2v14c0 1.1.9 2 2 2h14c1.1 0 2-.9 2-2V5c0-1.1-.9-2-2-2zM9 17H7v-7h2v7zm4 0h-2V7h2v10zm4 0h-2v-4h2v4z\"/>\n",
              "    </g>\n",
              "</svg>\n",
              "      </button>\n",
              "\n",
              "<style>\n",
              "  .colab-df-quickchart {\n",
              "      --bg-color: #E8F0FE;\n",
              "      --fill-color: #1967D2;\n",
              "      --hover-bg-color: #E2EBFA;\n",
              "      --hover-fill-color: #174EA6;\n",
              "      --disabled-fill-color: #AAA;\n",
              "      --disabled-bg-color: #DDD;\n",
              "  }\n",
              "\n",
              "  [theme=dark] .colab-df-quickchart {\n",
              "      --bg-color: #3B4455;\n",
              "      --fill-color: #D2E3FC;\n",
              "      --hover-bg-color: #434B5C;\n",
              "      --hover-fill-color: #FFFFFF;\n",
              "      --disabled-bg-color: #3B4455;\n",
              "      --disabled-fill-color: #666;\n",
              "  }\n",
              "\n",
              "  .colab-df-quickchart {\n",
              "    background-color: var(--bg-color);\n",
              "    border: none;\n",
              "    border-radius: 50%;\n",
              "    cursor: pointer;\n",
              "    display: none;\n",
              "    fill: var(--fill-color);\n",
              "    height: 32px;\n",
              "    padding: 0;\n",
              "    width: 32px;\n",
              "  }\n",
              "\n",
              "  .colab-df-quickchart:hover {\n",
              "    background-color: var(--hover-bg-color);\n",
              "    box-shadow: 0 1px 2px rgba(60, 64, 67, 0.3), 0 1px 3px 1px rgba(60, 64, 67, 0.15);\n",
              "    fill: var(--button-hover-fill-color);\n",
              "  }\n",
              "\n",
              "  .colab-df-quickchart-complete:disabled,\n",
              "  .colab-df-quickchart-complete:disabled:hover {\n",
              "    background-color: var(--disabled-bg-color);\n",
              "    fill: var(--disabled-fill-color);\n",
              "    box-shadow: none;\n",
              "  }\n",
              "\n",
              "  .colab-df-spinner {\n",
              "    border: 2px solid var(--fill-color);\n",
              "    border-color: transparent;\n",
              "    border-bottom-color: var(--fill-color);\n",
              "    animation:\n",
              "      spin 1s steps(1) infinite;\n",
              "  }\n",
              "\n",
              "  @keyframes spin {\n",
              "    0% {\n",
              "      border-color: transparent;\n",
              "      border-bottom-color: var(--fill-color);\n",
              "      border-left-color: var(--fill-color);\n",
              "    }\n",
              "    20% {\n",
              "      border-color: transparent;\n",
              "      border-left-color: var(--fill-color);\n",
              "      border-top-color: var(--fill-color);\n",
              "    }\n",
              "    30% {\n",
              "      border-color: transparent;\n",
              "      border-left-color: var(--fill-color);\n",
              "      border-top-color: var(--fill-color);\n",
              "      border-right-color: var(--fill-color);\n",
              "    }\n",
              "    40% {\n",
              "      border-color: transparent;\n",
              "      border-right-color: var(--fill-color);\n",
              "      border-top-color: var(--fill-color);\n",
              "    }\n",
              "    60% {\n",
              "      border-color: transparent;\n",
              "      border-right-color: var(--fill-color);\n",
              "    }\n",
              "    80% {\n",
              "      border-color: transparent;\n",
              "      border-right-color: var(--fill-color);\n",
              "      border-bottom-color: var(--fill-color);\n",
              "    }\n",
              "    90% {\n",
              "      border-color: transparent;\n",
              "      border-bottom-color: var(--fill-color);\n",
              "    }\n",
              "  }\n",
              "</style>\n",
              "\n",
              "      <script>\n",
              "        async function quickchart(key) {\n",
              "          const quickchartButtonEl =\n",
              "            document.querySelector('#' + key + ' button');\n",
              "          quickchartButtonEl.disabled = true;  // To prevent multiple clicks.\n",
              "          quickchartButtonEl.classList.add('colab-df-spinner');\n",
              "          try {\n",
              "            const charts = await google.colab.kernel.invokeFunction(\n",
              "                'suggestCharts', [key], {});\n",
              "          } catch (error) {\n",
              "            console.error('Error during call to suggestCharts:', error);\n",
              "          }\n",
              "          quickchartButtonEl.classList.remove('colab-df-spinner');\n",
              "          quickchartButtonEl.classList.add('colab-df-quickchart-complete');\n",
              "        }\n",
              "        (() => {\n",
              "          let quickchartButtonEl =\n",
              "            document.querySelector('#df-0630a579-3b79-40d4-927f-c304794fc276 button');\n",
              "          quickchartButtonEl.style.display =\n",
              "            google.colab.kernel.accessAllowed ? 'block' : 'none';\n",
              "        })();\n",
              "      </script>\n",
              "    </div>\n",
              "\n",
              "    </div>\n",
              "  </div>\n"
            ],
            "application/vnd.google.colaboratory.intrinsic+json": {
              "type": "dataframe",
              "summary": "{\n  \"name\": \"df\",\n  \"rows\": 8,\n  \"fields\": [\n    {\n      \"column\": \"ph\",\n      \"properties\": {\n        \"dtype\": \"number\",\n        \"std\": 206.66579463719935,\n        \"min\": 0.810587625493595,\n        \"max\": 591.0,\n        \"num_unique_values\": 8,\n        \"samples\": [\n          7.532115059221659,\n          7.5,\n          591.0\n        ],\n        \"semantic_type\": \"\",\n        \"description\": \"\"\n      }\n    },\n    {\n      \"column\": \"temperature\",\n      \"properties\": {\n        \"dtype\": \"number\",\n        \"std\": 202.7243025281036,\n        \"min\": 4.0,\n        \"max\": 591.0,\n        \"num_unique_values\": 8,\n        \"samples\": [\n          21.789306260575295,\n          21.06,\n          591.0\n        ],\n        \"semantic_type\": \"\",\n        \"description\": \"\"\n      }\n    },\n    {\n      \"column\": \"turbidity\",\n      \"properties\": {\n        \"dtype\": \"number\",\n        \"std\": 207.26013084076106,\n        \"min\": 1.0,\n        \"max\": 591.0,\n        \"num_unique_values\": 8,\n        \"samples\": [\n          4.432944162436548,\n          3.57,\n          591.0\n        ],\n        \"semantic_type\": \"\",\n        \"description\": \"\"\n      }\n    }\n  ]\n}"
            }
          },
          "metadata": {},
          "execution_count": 4
        }
      ]
    },
    {
      "cell_type": "markdown",
      "source": [
        "Dari hasil nilai statistik dari kode diatas, didapati bahwa:\n",
        "\n",
        "1. pH: Sebagian besar air kolam memiliki ph netral hingga agak basa, hanya sedikit yang ekstrem.\n",
        "\n",
        "2. Suhu: Terdapat variabilitas besar dalam suhu, dengan sebagian data menunjukkan suhu terlalu rendah.\n",
        "\n",
        "3. Kekeruhan: Sebagian besar air tidak terlalu keruh, namun ada outlier yang sangat tinggi.\n",
        "\n",
        "Analisis ini mengindikasikan bahwa suhu dan kekeruhan bisa menjadi faktor penting dalam membedakan kualitas air (baik, cukup, buruk), dan bisa dijadikan fokus dalam pengembangan model prediksi."
      ],
      "metadata": {
        "id": "FYiicb_zQGyW"
      }
    },
    {
      "cell_type": "code",
      "source": [
        "#Mengecek nilai missing values (0)\n",
        "ph = (df.ph == 0).sum()\n",
        "temp = (df.temperature == 0).sum()\n",
        "turb = (df.turbidity == 0).sum()\n",
        "\n",
        "print(\"Nilai 0 di kolom ph ada: \", ph)\n",
        "print(\"Nilai 0 di kolom temp ada: \", temp)\n",
        "print(\"Nilai 0 di kolom turb ada: \", turb)"
      ],
      "metadata": {
        "colab": {
          "base_uri": "https://localhost:8080/"
        },
        "id": "mk-x4-1yO1WU",
        "outputId": "4c12a770-6fdb-4d8f-eb12-050da27ef059"
      },
      "execution_count": null,
      "outputs": [
        {
          "output_type": "stream",
          "name": "stdout",
          "text": [
            "Nilai 0 di kolom ph ada:  0\n",
            "Nilai 0 di kolom temp ada:  0\n",
            "Nilai 0 di kolom turb ada:  0\n"
          ]
        }
      ]
    },
    {
      "cell_type": "markdown",
      "source": [
        "Kode diatas digunakan untuk mencari apakah terdapat nilai kosong (missing values) yang tersimoan pada dataset. Dari hasil output tersebut, didapati bahwa dataset tidak memiliki nilai kosong pada kolom ph, temperature, dan turbidity.\n",
        "\n",
        "Setelah melakukan pengecekan awal dan mengidentifikasi potensi masalah pada data seperti nilai 0 yang tidak valid, langkah selanjutnya adalah memastikan kembali dimensi dari dataset yang sedang dikerjakan yaitu dengan memeriksa outlier."
      ],
      "metadata": {
        "id": "qoTBZNicoKuK"
      }
    },
    {
      "cell_type": "markdown",
      "source": [
        "# Exploratory Data Analysis (EDA)\n",
        "Tahap selanjutnya ialah melakukan EDA guna mencari pola, anomali, dan asumsi yang dapat ditarik dari dataset. Tahapan EDA yang dilakukan disini adalah:\n",
        "1. Memeriksa Outlier\n",
        "2. Univariate Analysis\n",
        "3. Multivariate Analysis\n",
        "\n",
        "\n",
        "---\n",
        "\n",
        "\n",
        "## Memeriksa Outlier"
      ],
      "metadata": {
        "id": "v9Y4Qh-8PaiE"
      }
    },
    {
      "cell_type": "code",
      "source": [
        "sns.boxplot(x=df['ph'])"
      ],
      "metadata": {
        "colab": {
          "base_uri": "https://localhost:8080/",
          "height": 466
        },
        "id": "-7ILAavIPO2y",
        "outputId": "e2e90e69-d60e-4e6c-a81b-deb5d86d0f5d"
      },
      "execution_count": null,
      "outputs": [
        {
          "output_type": "execute_result",
          "data": {
            "text/plain": [
              "<Axes: xlabel='ph'>"
            ]
          },
          "metadata": {},
          "execution_count": 7
        },
        {
          "output_type": "display_data",
          "data": {
            "text/plain": [
              "<Figure size 640x480 with 1 Axes>"
            ],
            "image/png": "[encoded data removed]"
          },
          "metadata": {}
        }
      ]
    },
    {
      "cell_type": "markdown",
      "source": [
        "Dari hasil Kotak pada boxplot ph menunjukkan bahwa Tidak ada outlier yang muncul di luar garis whisker pada boxplot tersebut dan ditunjukkan bahwa seluruh nilai pH berada dalam rentang yang wajar berdasarkan distribusi data.\n",
        "\n",
        "Median (garis tengah dalam box) berada sedikit di atas tengah box, menunjukkan distribusi sedikit condong ke kiri (negatively skewed), tapi tetap relatif simetris. Hal ini mengindikasikan ph kolam umumnya stabil dan tidak banyak variasi ekstrem.\n",
        "\n"
      ],
      "metadata": {
        "id": "2P1tR8W4qpZO"
      }
    },
    {
      "cell_type": "code",
      "source": [
        "sns.boxplot(x=df['temperature'])"
      ],
      "metadata": {
        "colab": {
          "base_uri": "https://localhost:8080/",
          "height": 466
        },
        "id": "vquRYrefPnH7",
        "outputId": "5694b5e9-d905-4e45-cf74-44cb4ba85f2f"
      },
      "execution_count": null,
      "outputs": [
        {
          "output_type": "execute_result",
          "data": {
            "text/plain": [
              "<Axes: xlabel='temperature'>"
            ]
          },
          "metadata": {},
          "execution_count": 8
        },
        {
          "output_type": "display_data",
          "data": {
            "text/plain": [
              "<Figure size 640x480 with 1 Axes>"
            ],
            "image/png": "[encoded data removed]"
          },
          "metadata": {}
        }
      ]
    },
    {
      "cell_type": "markdown",
      "source": [
        "Pada hasil visualisasi outlier untuk data temperature, didapati bahwa terdapat nilai outlier yang ditunjukan berupa titik-titik disamping median yang mengindikasi bahwa terdapat 2 data yang menyimpan suhu kolam terlalu tinggi, dan 5 data yang menyimpan suhu kolam terlalu rendah. Hal ini kemungkinan bisa terjadi karena adanya kesalahan pencatatan pada sensor, atau kondisi ekstrem pada kolam (misalnya kolam terlalu dingin atau terlalu panas)."
      ],
      "metadata": {
        "id": "u3hBXZxdrQBX"
      }
    },
    {
      "cell_type": "code",
      "source": [
        "sns.boxplot(x=df['turbidity'])"
      ],
      "metadata": {
        "colab": {
          "base_uri": "https://localhost:8080/",
          "height": 466
        },
        "id": "z3D60OKGPrEj",
        "outputId": "3c9eed2c-be85-4826-deaa-2e9eede24d54"
      },
      "execution_count": null,
      "outputs": [
        {
          "output_type": "execute_result",
          "data": {
            "text/plain": [
              "<Axes: xlabel='turbidity'>"
            ]
          },
          "metadata": {},
          "execution_count": 9
        },
        {
          "output_type": "display_data",
          "data": {
            "text/plain": [
              "<Figure size 640x480 with 1 Axes>"
            ],
            "image/png": "[encoded data removed]"
          },
          "metadata": {}
        }
      ]
    },
    {
      "cell_type": "markdown",
      "source": [
        "Pada hasil visualisasi outlier untuk data turbidity, didapati hasil bahwa terdapat banyak titik outlier, baik di sisi kiri (nilai kekeruhan sangat rendah) maupun kanan (sangat tinggi) yang dimana outlier kanan sangat ekstrem, dengan nilai hingga mendekati 16 NTU, padahal batas atas normal (whisker) hanya sekitar 5–6 NTU. Hal ini mengindikasikan bahwa sebagian besar data berada di rentang normal, tapi ada kelompok data kecil dengan tingkat kekeruhan yang sangat tinggi.\n",
        "\n"
      ],
      "metadata": {
        "id": "uN1cLQ54sAnx"
      }
    },
    {
      "cell_type": "code",
      "source": [
        "#Menangani Outlier\n",
        "numeric_cols = df.select_dtypes(include='number').columns\n",
        "# Hitung Q1, Q3, dan IQR hanya untuk kolom numerikal\n",
        "Q1 = df[numeric_cols].quantile(0.25)\n",
        "Q3 = df[numeric_cols].quantile(0.75)\n",
        "IQR = Q3 - Q1\n",
        "# Buat filter untuk menghapus baris yang mengandung outlier di kolom numerikal\n",
        "filter_outliers = ~((df[numeric_cols] < (Q1 - 1.5 * IQR)) |\n",
        "                    (df[numeric_cols] > (Q3 + 1.5 * IQR))).any(axis=1)\n",
        "df = df[filter_outliers]\n",
        "df.shape"
      ],
      "metadata": {
        "colab": {
          "base_uri": "https://localhost:8080/"
        },
        "id": "jtPQG_TiQBmM",
        "outputId": "6d070794-e25f-4dff-9d56-2a9880c7043f"
      },
      "execution_count": null,
      "outputs": [
        {
          "output_type": "execute_result",
          "data": {
            "text/plain": [
              "(460, 4)"
            ]
          },
          "metadata": {},
          "execution_count": 10
        }
      ]
    },
    {
      "cell_type": "markdown",
      "source": [
        "Setelah ditunjukkan pada visualisasi bahwa terdapat outlier pada data temperature dan turbidity, dilakukan penanganan outlier menggunakan metode IQR (Index Quartile Range) untuk menghapus data outlier yang terlalu tersimpan jauh dari nilai median, dan menghapusnya dari dataset.\n",
        "\n",
        "Dari hasil penjalanan kode, didapati hasil bahwa sekitar 131 data yang memiliki nilai outlier, dan oleh karena itu dihapus dari dataset."
      ],
      "metadata": {
        "id": "IrBLwuNasY0I"
      }
    },
    {
      "cell_type": "markdown",
      "source": [
        "## Univariate Analysis"
      ],
      "metadata": {
        "id": "cDs8C-yDQNOb"
      }
    },
    {
      "cell_type": "markdown",
      "source": [
        "Dalam tahap ini, Dilakukan tahapan analisa EDA dengan teknik univariate analysis. Hal ini digunakan untuk membagi kolom dataset menjadi dua bagian yaitu numerikal dan kategorikal."
      ],
      "metadata": {
        "id": "TmMMxDCjtjCn"
      }
    },
    {
      "cell_type": "code",
      "source": [
        "numerical_features = ['ph', 'temperature', 'turbidity']\n",
        "categorical_features = ['fish']"
      ],
      "metadata": {
        "id": "89ukTWO2QRG7"
      },
      "execution_count": null,
      "outputs": []
    },
    {
      "cell_type": "markdown",
      "source": [
        "Pada kode diatas, data yang menyimpan nilai numerik yaitu ph, temperature, dan turbidity disimpan kedalam fitur numerik dan data jenis ikan tersimpan dalam fitur kategorik."
      ],
      "metadata": {
        "id": "VlD-rl9tT5KI"
      }
    },
    {
      "cell_type": "code",
      "source": [
        "feature = categorical_features[0]\n",
        "count = df[feature].value_counts()\n",
        "percent = 100*df[feature].value_counts(normalize=True)\n",
        "clean_df = pd.DataFrame({'jumlah sampel':count, 'persentase':percent.round(1)})\n",
        "print(clean_df)\n",
        "count.plot(kind='bar', title=feature);"
      ],
      "metadata": {
        "colab": {
          "base_uri": "https://localhost:8080/",
          "height": 713
        },
        "id": "L-IWbH6cQl56",
        "outputId": "e1de960b-9408-4159-e39c-9b93b0d9a7ff"
      },
      "execution_count": null,
      "outputs": [
        {
          "output_type": "stream",
          "name": "stdout",
          "text": [
            "           jumlah sampel  persentase\n",
            "fish                                \n",
            "tilapia              123        26.7\n",
            "rui                   84        18.3\n",
            "pangas                68        14.8\n",
            "katla                 57        12.4\n",
            "silverCup             48        10.4\n",
            "shrimp                36         7.8\n",
            "sing                  32         7.0\n",
            "koi                   10         2.2\n",
            "prawn                  2         0.4\n"
          ]
        },
        {
          "output_type": "display_data",
          "data": {
            "text/plain": [
              "<Figure size 640x480 with 1 Axes>"
            ],
            "image/png": "[encoded data removed]"
          },
          "metadata": {}
        }
      ]
    },
    {
      "cell_type": "markdown",
      "source": [
        "Dari hasil visualiasi dalam mencari jumlah ikan pada dataset, terdapat 9 jenis ikan yang secara berurutan dari jumlahnya yang paling banyak yaitu: tilapia, rui, pangas, katla, silvercup, shrimp, sing, koi, dan udang. Dari data persentase dapat kita simpulkan bahwa lebih dari 60% sampel didapati dari jenis ikan tilapia, dui, dan pangas yang berarti pembudidaya membudiyakan ikan-ikan tersebut dalam jumlah lebih banyak daripada dengan yang lainnya."
      ],
      "metadata": {
        "id": "5-1niMUDt7An"
      }
    },
    {
      "cell_type": "code",
      "source": [
        "#Numerical Feature\n",
        "\n",
        "df.hist(bins=50, figsize=(20,15))\n",
        "plt.show()"
      ],
      "metadata": {
        "colab": {
          "base_uri": "https://localhost:8080/",
          "height": 961
        },
        "id": "mZv-YxwdQ9jL",
        "outputId": "fb75b7e7-a773-4461-b7d0-733be1afd096"
      },
      "execution_count": null,
      "outputs": [
        {
          "output_type": "display_data",
          "data": {
            "text/plain": [
              "<Figure size 2000x1500 with 4 Axes>"
            ],
            "image/png": "[encoded data removed]"
          },
          "metadata": {}
        }
      ]
    },
    {
      "cell_type": "markdown",
      "source": [
        "Dari hasil tiga histogram, menunjukkan frekuensi nilai-nilai dalam rentang tertentu.\n",
        "1. pH: Sebagian besar nilai pH air kolam berada dalam rentang 5.8 hingga 8.9 dengan distribusi multimodal, yang menunjukkan adanya variasi besar pada tingkat keasaman air. Beberapa puncak frekuensi muncul di sekitar nilai 6.0, 7.0, dan 8.5, menandakan kemungkinan perbedaan kondisi air tergantung jenis ikan atau kolam.\n",
        "\n",
        "2. Temperature: Distribusi temperatur didominasi oleh nilai di sekitar 21°C, yang menunjukkan bahwa sebagian besar kolam memiliki suhu air yang stabil. Terdapat juga sejumlah kecil data dengan temperatur yang jauh lebih tinggi, menunjukkan keberadaan outlier yang perlu dianalisis lebih lanjut.\n",
        "\n",
        "3. Turbidity: Tingkat kekeruhan air (turbidity) terdistribusi secara sempit di sekitar nilai 3.5 hingga 3.7, yang menandakan bahwa sebagian besar kolam memiliki tingkat kekeruhan yang serupa. Meskipun demikian, terdapat beberapa nilai ekstrem di luar rentang ini yang berpotensi sebagai outlier."
      ],
      "metadata": {
        "id": "TBZo5zutuPVL"
      }
    },
    {
      "cell_type": "markdown",
      "source": [
        "## Multivariate Analysis"
      ],
      "metadata": {
        "id": "0_T8ly3CXI4D"
      }
    },
    {
      "cell_type": "code",
      "source": [
        "numerical_features = ['ph', 'temperature', 'turbidity']\n",
        "\n",
        "for num_col in numerical_features:\n",
        "  sns.catplot(x=\"fish\", y=num_col, kind=\"bar\", dodge=False, height = 4, aspect = 3, data=df, palette=\"Set3\")\n",
        "  plt.title(f\"Rata-rata nilai {num_col} Relatif terhadap masing-masing ikan\")\n",
        "  plt.show()"
      ],
      "metadata": {
        "colab": {
          "base_uri": "https://localhost:8080/",
          "height": 1000
        },
        "id": "zOw7VPdGRcXz",
        "outputId": "219c6c2a-548d-48da-ead7-11a3c661c404"
      },
      "execution_count": null,
      "outputs": [
        {
          "output_type": "stream",
          "name": "stderr",
          "text": [
            "<ipython-input-14-c487bc3cef7c>:4: FutureWarning: \n",
            "\n",
            "Passing `palette` without assigning `hue` is deprecated and will be removed in v0.14.0. Assign the `x` variable to `hue` and set `legend=False` for the same effect.\n",
            "\n",
            "  sns.catplot(x=\"fish\", y=num_col, kind=\"bar\", dodge=False, height = 4, aspect = 3, data=df, palette=\"Set3\")\n"
          ]
        },
        {
          "output_type": "display_data",
          "data": {
            "text/plain": [
              "<Figure size 1200x400 with 1 Axes>"
            ],
            "image/png": "[encoded data removed]"
          },
          "metadata": {}
        },
        {
          "output_type": "stream",
          "name": "stderr",
          "text": [
            "<ipython-input-14-c487bc3cef7c>:4: FutureWarning: \n",
            "\n",
            "Passing `palette` without assigning `hue` is deprecated and will be removed in v0.14.0. Assign the `x` variable to `hue` and set `legend=False` for the same effect.\n",
            "\n",
            "  sns.catplot(x=\"fish\", y=num_col, kind=\"bar\", dodge=False, height = 4, aspect = 3, data=df, palette=\"Set3\")\n"
          ]
        },
        {
          "output_type": "display_data",
          "data": {
            "text/plain": [
              "<Figure size 1200x400 with 1 Axes>"
            ],
            "image/png": "[encoded data removed]"
          },
          "metadata": {}
        },
        {
          "output_type": "stream",
          "name": "stderr",
          "text": [
            "<ipython-input-14-c487bc3cef7c>:4: FutureWarning: \n",
            "\n",
            "Passing `palette` without assigning `hue` is deprecated and will be removed in v0.14.0. Assign the `x` variable to `hue` and set `legend=False` for the same effect.\n",
            "\n",
            "  sns.catplot(x=\"fish\", y=num_col, kind=\"bar\", dodge=False, height = 4, aspect = 3, data=df, palette=\"Set3\")\n"
          ]
        },
        {
          "output_type": "display_data",
          "data": {
            "text/plain": [
              "<Figure size 1200x400 with 1 Axes>"
            ],
            "image/png": "[encoded data removed]"
          },
          "metadata": {}
        }
      ]
    },
    {
      "cell_type": "markdown",
      "source": [
        "Dari hasil data tiga grafik batang, satu untuk setiap fitur numerik (ph, temperature, turbidity), dengan jenis ikan di sumbu x.\n",
        "1. Rata-rata ph terhadap jenis Ikan:\n",
        "Visualisasi ini menunjukkan rata-rata nilai pH air kolam berdasarkan jenis ikan. Pangas memiliki rata-rata pH tertinggi sekitar 8.6, menunjukkan preferensi terhadap air lebih basa. Sementara silverCup, shrimp, dan rui hidup dalam air dengan pH lebih rendah (6.8–7.0). Tilapia dan prawn berada di rentang netral hingga sedikit basa (7.8–8.0). Ini penting dalam pengelolaan kualitas air karena menunjukkan kebutuhan pH optimal yang berbeda untuk setiap jenis ikan.\n",
        "\n",
        "2. Rata-rata temperature terhadap Jenis Ikan:\n",
        "Visualisasi ini menunjukkan distribusi suhu air kolam. Nilai suhu mayoritas berkisar antara 18°C hingga 25°C, dengan median sekitar 21°C.. Penyebaran data cukup simetris dan terkonsentrasi di tengah, menandakan kestabilan suhu air pada sebagian besar waktu.\n",
        "\n",
        "3. Rata-rata turbidity Relatif terhadap Jenis Ikan:\n",
        "Visualisasi ini menunjukkan distribusi yang condong ke kanan, dengan banyak outlier di sisi atas. Mayoritas data berada di sekitar nilai 3.5 hingga 5 NTU. Ini menunjukkan bahwa meskipun kebanyakan kolam memiliki tingkat kekeruhan yang rendah hingga sedang, ada kondisi tertentu yang menyebabkan kekeruhan tinggi.\n",
        "\n"
      ],
      "metadata": {
        "id": "Vu5FrvJwvNdR"
      }
    },
    {
      "cell_type": "code",
      "source": [
        "# Mengamati hubungan antar fitur numerik dengan fungsi pairplot() (NUMERICAL FEATURES)\n",
        "sns.pairplot(df, diag_kind = 'kde')"
      ],
      "metadata": {
        "colab": {
          "base_uri": "https://localhost:8080/",
          "height": 775
        },
        "id": "zRdJo8qbSw2C",
        "outputId": "c48835a4-0afe-473e-8968-54f33ad49962"
      },
      "execution_count": null,
      "outputs": [
        {
          "output_type": "execute_result",
          "data": {
            "text/plain": [
              "<seaborn.axisgrid.PairGrid at 0x79a380ad4f90>"
            ]
          },
          "metadata": {},
          "execution_count": 15
        },
        {
          "output_type": "display_data",
          "data": {
            "text/plain": [
              "<Figure size 750x750 with 12 Axes>"
            ],
            "image/png": "[encoded data removed]"
          },
          "metadata": {}
        }
      ]
    },
    {
      "cell_type": "markdown",
      "source": [
        "Dari hasil visualisi diatas, dapat dijelaskan bahwa:\n",
        "1. pH: Distribusi pH dalam data ini menunjukkan sebagian besar nilai berada di rentang netral hingga sedikit basa, terkonsentrasi kuat antara 7 hingga 8.5. Hal ini mengindikasikan bahwa kondisi keasaman atau kebasaan lingkungan yang diukur cenderung stabil dan berada dalam kisaran tersebut.\n",
        "\n",
        "2. Suhu: Data suhu menampilkan dua kelompok utama, satu di sekitar 22-25°C dan lainnya di sekitar 18-20°C. Pola bimodal ini menunjukkan kemungkinan adanya variasi suhu yang signifikan, mungkin disebabkan oleh perbedaan waktu pengukuran atau kondisi lingkungan yang bervariasi pada saat data dikumpulkan.\n",
        "\n",
        "3. Kekeruhan: Kekeruhan dalam dataset ini dominan berada di kisaran 3.5 hingga 4.0, menunjukkan bahwa sebagian besar sampel memiliki tingkat kejernihan yang serupa. Meskipun ada beberapa nilai di luar rentang ini, konsentrasi data yang ketat mengindikasikan kondisi kekeruhan yang cukup konsisten."
      ],
      "metadata": {
        "id": "pr9CatO2xOd7"
      }
    },
    {
      "cell_type": "code",
      "source": [
        "#Correlation Matrix\n",
        "plt.figure(figsize=(10, 8))\n",
        "correlation_matrix = df[numerical_features].corr().round(2)\n",
        "\n",
        "# Untuk menge-print nilai di dalam kotak, gunakan parameter anot=True\n",
        "sns.heatmap(data=correlation_matrix, annot=True, cmap='coolwarm', linewidths=0.5, )\n",
        "plt.title(\"Correlation Matrix untuk Fitur Numerik \", size=20)"
      ],
      "metadata": {
        "colab": {
          "base_uri": "https://localhost:8080/",
          "height": 724
        },
        "id": "IE0lTp_WS1jT",
        "outputId": "b7308963-08d4-43b0-9dbc-ff5bd7a95461"
      },
      "execution_count": null,
      "outputs": [
        {
          "output_type": "execute_result",
          "data": {
            "text/plain": [
              "Text(0.5, 1.0, 'Correlation Matrix untuk Fitur Numerik ')"
            ]
          },
          "metadata": {},
          "execution_count": 16
        },
        {
          "output_type": "display_data",
          "data": {
            "text/plain": [
              "<Figure size 1000x800 with 2 Axes>"
            ],
            "image/png": "[encoded data removed]"
          },
          "metadata": {}
        }
      ]
    },
    {
      "cell_type": "markdown",
      "source": [
        "Dari hasil korelasi amtrix diatas, dapat dijelaskan bahwa:\n",
        "\n",
        "1. Korelasi Negatif Moderat antara pH dan Suhu: Terdapat korelasi negatif yang moderat (-0.36) antara pH dan suhu. Ini berarti bahwa seiring dengan peningkatan suhu, nilai pH cenderung sedikit menurun, dan sebaliknya. Meskipun tidak sangat kuat, ada kecenderungan hubungan terbalik di antara keduanya.\n",
        "\n",
        "2. Korelasi Positif Moderat antara Suhu dan Kekeruhan: Ada korelasi positif yang moderat (0.45) antara suhu dan kekeruhan. Hal ini mengindikasikan bahwa seiring dengan peningkatan suhu, tingkat kekeruhan cenderung sedikit meningkat.\n",
        "\n",
        "3. Korelasi Negatif Lemah antara pH dan Kekeruhan: Korelasi antara pH dan kekeruhan sangat lemah (-0.19). Ini menunjukkan bahwa perubahan pada pH hampir tidak memiliki pengaruh linier terhadap kekeruhan, atau sebaliknya. Hubungan di antara keduanya bisa dianggap sangat minim atau tidak ada.\n",
        "\n",
        "Secara keseluruhan, suhu tampaknya memiliki hubungan yang lebih jelas dengan pH (negatif) dan kekeruhan (positif) dibandingkan dengan hubungan antara pH dan kekeruhan itu sendiri. Kekuatan korelasi yang ditemukan moderat, menunjukkan adanya kecenderungan hubungan namun tidak berarti hubungan sebab-akibat yang kuat atau sempurna."
      ],
      "metadata": {
        "id": "Mu3nbVdtyNnh"
      }
    },
    {
      "cell_type": "markdown",
      "source": [
        "# Data Preparation"
      ],
      "metadata": {
        "id": "XlQ5pZdLVZQx"
      }
    },
    {
      "cell_type": "markdown",
      "source": [
        "Tahap selanjutnya setelah EDA ialah mempersiapkan data untuk proses modelling yaitu Data Preparation. Data Preparation digunakan untuk memastikan data yang digunakan bersih, lengkap, dan sesuai format untuk proses pemodelan. Dengan menyiapkan data secara tepat, model yang dibuat dapat bekerja lebih efisien, akurat, dan mengurangi risiko kesalahan seperti bias atau overfitting.\n",
        "\n",
        "Tahapan yang dilakukan dalam data preparation yang dilakukan, diantaranya:\n",
        "Menghitung Rata-rata & Standar Deviasi per Jenis Ikan\n",
        "\n",
        "1. Mendefinisikan Kisaran Ideal untuk Parameter Air\n",
        "2. Membuat Fungsi untuk Evaluasi Kualitas Air\n",
        "3. Menerapkan Fungsi Evaluasi ke Setiap Baris Data\n",
        "4. Visualisasi Distribusi Kualitas Air\n",
        "5. Encoding Kategori Jenis Ikan\n",
        "6. Membagi Data Jadi Training dan Testing Set"
      ],
      "metadata": {
        "id": "BujbFCLb0wOe"
      }
    },
    {
      "cell_type": "code",
      "source": [
        "# Menghitung Rata-rata & Standar Deviasi untuk Setiap Jenis Ikan\n",
        "df.groupby(\"fish\")[[\"ph\", \"temperature\", \"turbidity\"]].agg([\"mean\", \"std\"]).round(2)"
      ],
      "metadata": {
        "colab": {
          "base_uri": "https://localhost:8080/",
          "height": 394
        },
        "id": "Sbsk3N_tZJb4",
        "outputId": "c3a36cd7-026c-44e2-b162-8c865ccabf71"
      },
      "execution_count": null,
      "outputs": [
        {
          "output_type": "execute_result",
          "data": {
            "text/plain": [
              "             ph       temperature       turbidity      \n",
              "           mean   std        mean   std      mean   std\n",
              "fish                                                   \n",
              "katla      7.74  0.50       22.96  3.22      3.71  0.18\n",
              "koi        6.86  0.94       28.70  2.41      4.08  0.06\n",
              "pangas     8.59  0.49       19.94  4.45      3.47  0.15\n",
              "prawn      7.85  0.07       29.00  1.41      4.06  0.08\n",
              "rui        6.91  0.56       21.16  0.79      3.45  0.15\n",
              "shrimp     6.95  0.26       21.19  0.06      3.61  0.01\n",
              "silverCup  6.68  0.56       21.13  0.06      3.56  0.00\n",
              "sing       7.20  0.41       21.12  0.08      3.57  0.01\n",
              "tilapia    7.99  0.72       18.89  2.86      3.55  0.19"
            ],
            "text/html": [
              "\n",
              "  <div id=\"df-64c333de-8f0f-4c1c-8632-47c93d4959cc\" class=\"colab-df-container\">\n",
              "    <div>\n",
              "<style scoped>\n",
              "    .dataframe tbody tr th:only-of-type {\n",
              "        vertical-align: middle;\n",
              "    }\n",
              "\n",
              "    .dataframe tbody tr th {\n",
              "        vertical-align: top;\n",
              "    }\n",
              "\n",
              "    .dataframe thead tr th {\n",
              "        text-align: left;\n",
              "    }\n",
              "\n",
              "    .dataframe thead tr:last-of-type th {\n",
              "        text-align: right;\n",
              "    }\n",
              "</style>\n",
              "<table border=\"1\" class=\"dataframe\">\n",
              "  <thead>\n",
              "    <tr>\n",
              "      <th></th>\n",
              "      <th colspan=\"2\" halign=\"left\">ph</th>\n",
              "      <th colspan=\"2\" halign=\"left\">temperature</th>\n",
              "      <th colspan=\"2\" halign=\"left\">turbidity</th>\n",
              "    </tr>\n",
              "    <tr>\n",
              "      <th></th>\n",
              "      <th>mean</th>\n",
              "      <th>std</th>\n",
              "      <th>mean</th>\n",
              "      <th>std</th>\n",
              "      <th>mean</th>\n",
              "      <th>std</th>\n",
              "    </tr>\n",
              "    <tr>\n",
              "      <th>fish</th>\n",
              "      <th></th>\n",
              "      <th></th>\n",
              "      <th></th>\n",
              "      <th></th>\n",
              "      <th></th>\n",
              "      <th></th>\n",
              "    </tr>\n",
              "  </thead>\n",
              "  <tbody>\n",
              "    <tr>\n",
              "      <th>katla</th>\n",
              "      <td>7.74</td>\n",
              "      <td>0.50</td>\n",
              "      <td>22.96</td>\n",
              "      <td>3.22</td>\n",
              "      <td>3.71</td>\n",
              "      <td>0.18</td>\n",
              "    </tr>\n",
              "    <tr>\n",
              "      <th>koi</th>\n",
              "      <td>6.86</td>\n",
              "      <td>0.94</td>\n",
              "      <td>28.70</td>\n",
              "      <td>2.41</td>\n",
              "      <td>4.08</td>\n",
              "      <td>0.06</td>\n",
              "    </tr>\n",
              "    <tr>\n",
              "      <th>pangas</th>\n",
              "      <td>8.59</td>\n",
              "      <td>0.49</td>\n",
              "      <td>19.94</td>\n",
              "      <td>4.45</td>\n",
              "      <td>3.47</td>\n",
              "      <td>0.15</td>\n",
              "    </tr>\n",
              "    <tr>\n",
              "      <th>prawn</th>\n",
              "      <td>7.85</td>\n",
              "      <td>0.07</td>\n",
              "      <td>29.00</td>\n",
              "      <td>1.41</td>\n",
              "      <td>4.06</td>\n",
              "      <td>0.08</td>\n",
              "    </tr>\n",
              "    <tr>\n",
              "      <th>rui</th>\n",
              "      <td>6.91</td>\n",
              "      <td>0.56</td>\n",
              "      <td>21.16</td>\n",
              "      <td>0.79</td>\n",
              "      <td>3.45</td>\n",
              "      <td>0.15</td>\n",
              "    </tr>\n",
              "    <tr>\n",
              "      <th>shrimp</th>\n",
              "      <td>6.95</td>\n",
              "      <td>0.26</td>\n",
              "      <td>21.19</td>\n",
              "      <td>0.06</td>\n",
              "      <td>3.61</td>\n",
              "      <td>0.01</td>\n",
              "    </tr>\n",
              "    <tr>\n",
              "      <th>silverCup</th>\n",
              "      <td>6.68</td>\n",
              "      <td>0.56</td>\n",
              "      <td>21.13</td>\n",
              "      <td>0.06</td>\n",
              "      <td>3.56</td>\n",
              "      <td>0.00</td>\n",
              "    </tr>\n",
              "    <tr>\n",
              "      <th>sing</th>\n",
              "      <td>7.20</td>\n",
              "      <td>0.41</td>\n",
              "      <td>21.12</td>\n",
              "      <td>0.08</td>\n",
              "      <td>3.57</td>\n",
              "      <td>0.01</td>\n",
              "    </tr>\n",
              "    <tr>\n",
              "      <th>tilapia</th>\n",
              "      <td>7.99</td>\n",
              "      <td>0.72</td>\n",
              "      <td>18.89</td>\n",
              "      <td>2.86</td>\n",
              "      <td>3.55</td>\n",
              "      <td>0.19</td>\n",
              "    </tr>\n",
              "  </tbody>\n",
              "</table>\n",
              "</div>\n",
              "    <div class=\"colab-df-buttons\">\n",
              "\n",
              "  <div class=\"colab-df-container\">\n",
              "    <button class=\"colab-df-convert\" onclick=\"convertToInteractive('df-64c333de-8f0f-4c1c-8632-47c93d4959cc')\"\n",
              "            title=\"Convert this dataframe to an interactive table.\"\n",
              "            style=\"display:none;\">\n",
              "\n",
              "  <svg xmlns=\"http://www.w3.org/2000/svg\" height=\"24px\" viewBox=\"0 -960 960 960\">\n",
              "    <path d=\"M120-120v-720h720v720H120Zm60-500h600v-160H180v160Zm220 220h160v-160H400v160Zm0 220h160v-160H400v160ZM180-400h160v-160H180v160Zm440 0h160v-160H620v160ZM180-180h160v-160H180v160Zm440 0h160v-160H620v160Z\"/>\n",
              "  </svg>\n",
              "    </button>\n",
              "\n",
              "  <style>\n",
              "    .colab-df-container {\n",
              "      display:flex;\n",
              "      gap: 12px;\n",
              "    }\n",
              "\n",
              "    .colab-df-convert {\n",
              "      background-color: #E8F0FE;\n",
              "      border: none;\n",
              "      border-radius: 50%;\n",
              "      cursor: pointer;\n",
              "      display: none;\n",
              "      fill: #1967D2;\n",
              "      height: 32px;\n",
              "      padding: 0 0 0 0;\n",
              "      width: 32px;\n",
              "    }\n",
              "\n",
              "    .colab-df-convert:hover {\n",
              "      background-color: #E2EBFA;\n",
              "      box-shadow: 0px 1px 2px rgba(60, 64, 67, 0.3), 0px 1px 3px 1px rgba(60, 64, 67, 0.15);\n",
              "      fill: #174EA6;\n",
              "    }\n",
              "\n",
              "    .colab-df-buttons div {\n",
              "      margin-bottom: 4px;\n",
              "    }\n",
              "\n",
              "    [theme=dark] .colab-df-convert {\n",
              "      background-color: #3B4455;\n",
              "      fill: #D2E3FC;\n",
              "    }\n",
              "\n",
              "    [theme=dark] .colab-df-convert:hover {\n",
              "      background-color: #434B5C;\n",
              "      box-shadow: 0px 1px 3px 1px rgba(0, 0, 0, 0.15);\n",
              "      filter: drop-shadow(0px 1px 2px rgba(0, 0, 0, 0.3));\n",
              "      fill: #FFFFFF;\n",
              "    }\n",
              "  </style>\n",
              "\n",
              "    <script>\n",
              "      const buttonEl =\n",
              "        document.querySelector('#df-64c333de-8f0f-4c1c-8632-47c93d4959cc button.colab-df-convert');\n",
              "      buttonEl.style.display =\n",
              "        google.colab.kernel.accessAllowed ? 'block' : 'none';\n",
              "\n",
              "      async function convertToInteractive(key) {\n",
              "        const element = document.querySelector('#df-64c333de-8f0f-4c1c-8632-47c93d4959cc');\n",
              "        const dataTable =\n",
              "          await google.colab.kernel.invokeFunction('convertToInteractive',\n",
              "                                                    [key], {});\n",
              "        if (!dataTable) return;\n",
              "\n",
              "        const docLinkHtml = 'Like what you see? Visit the ' +\n",
              "          '<a target=\"_blank\" href=https://colab.research.google.com/notebooks/data_table.ipynb>data table notebook</a>'\n",
              "          + ' to learn more about interactive tables.';\n",
              "        element.innerHTML = '';\n",
              "        dataTable['output_type'] = 'display_data';\n",
              "        await google.colab.output.renderOutput(dataTable, element);\n",
              "        const docLink = document.createElement('div');\n",
              "        docLink.innerHTML = docLinkHtml;\n",
              "        element.appendChild(docLink);\n",
              "      }\n",
              "    </script>\n",
              "  </div>\n",
              "\n",
              "\n",
              "    <div id=\"df-0b271a12-a6e6-4852-ad41-671dc562fda3\">\n",
              "      <button class=\"colab-df-quickchart\" onclick=\"quickchart('df-0b271a12-a6e6-4852-ad41-671dc562fda3')\"\n",
              "                title=\"Suggest charts\"\n",
              "                style=\"display:none;\">\n",
              "\n",
              "<svg xmlns=\"http://www.w3.org/2000/svg\" height=\"24px\"viewBox=\"0 0 24 24\"\n",
              "     width=\"24px\">\n",
              "    <g>\n",
              "        <path d=\"M19 3H5c-1.1 0-2 .9-2 2v14c0 1.1.9 2 2 2h14c1.1 0 2-.9 2-2V5c0-1.1-.9-2-2-2zM9 17H7v-7h2v7zm4 0h-2V7h2v10zm4 0h-2v-4h2v4z\"/>\n",
              "    </g>\n",
              "</svg>\n",
              "      </button>\n",
              "\n",
              "<style>\n",
              "  .colab-df-quickchart {\n",
              "      --bg-color: #E8F0FE;\n",
              "      --fill-color: #1967D2;\n",
              "      --hover-bg-color: #E2EBFA;\n",
              "      --hover-fill-color: #174EA6;\n",
              "      --disabled-fill-color: #AAA;\n",
              "      --disabled-bg-color: #DDD;\n",
              "  }\n",
              "\n",
              "  [theme=dark] .colab-df-quickchart {\n",
              "      --bg-color: #3B4455;\n",
              "      --fill-color: #D2E3FC;\n",
              "      --hover-bg-color: #434B5C;\n",
              "      --hover-fill-color: #FFFFFF;\n",
              "      --disabled-bg-color: #3B4455;\n",
              "      --disabled-fill-color: #666;\n",
              "  }\n",
              "\n",
              "  .colab-df-quickchart {\n",
              "    background-color: var(--bg-color);\n",
              "    border: none;\n",
              "    border-radius: 50%;\n",
              "    cursor: pointer;\n",
              "    display: none;\n",
              "    fill: var(--fill-color);\n",
              "    height: 32px;\n",
              "    padding: 0;\n",
              "    width: 32px;\n",
              "  }\n",
              "\n",
              "  .colab-df-quickchart:hover {\n",
              "    background-color: var(--hover-bg-color);\n",
              "    box-shadow: 0 1px 2px rgba(60, 64, 67, 0.3), 0 1px 3px 1px rgba(60, 64, 67, 0.15);\n",
              "    fill: var(--button-hover-fill-color);\n",
              "  }\n",
              "\n",
              "  .colab-df-quickchart-complete:disabled,\n",
              "  .colab-df-quickchart-complete:disabled:hover {\n",
              "    background-color: var(--disabled-bg-color);\n",
              "    fill: var(--disabled-fill-color);\n",
              "    box-shadow: none;\n",
              "  }\n",
              "\n",
              "  .colab-df-spinner {\n",
              "    border: 2px solid var(--fill-color);\n",
              "    border-color: transparent;\n",
              "    border-bottom-color: var(--fill-color);\n",
              "    animation:\n",
              "      spin 1s steps(1) infinite;\n",
              "  }\n",
              "\n",
              "  @keyframes spin {\n",
              "    0% {\n",
              "      border-color: transparent;\n",
              "      border-bottom-color: var(--fill-color);\n",
              "      border-left-color: var(--fill-color);\n",
              "    }\n",
              "    20% {\n",
              "      border-color: transparent;\n",
              "      border-left-color: var(--fill-color);\n",
              "      border-top-color: var(--fill-color);\n",
              "    }\n",
              "    30% {\n",
              "      border-color: transparent;\n",
              "      border-left-color: var(--fill-color);\n",
              "      border-top-color: var(--fill-color);\n",
              "      border-right-color: var(--fill-color);\n",
              "    }\n",
              "    40% {\n",
              "      border-color: transparent;\n",
              "      border-right-color: var(--fill-color);\n",
              "      border-top-color: var(--fill-color);\n",
              "    }\n",
              "    60% {\n",
              "      border-color: transparent;\n",
              "      border-right-color: var(--fill-color);\n",
              "    }\n",
              "    80% {\n",
              "      border-color: transparent;\n",
              "      border-right-color: var(--fill-color);\n",
              "      border-bottom-color: var(--fill-color);\n",
              "    }\n",
              "    90% {\n",
              "      border-color: transparent;\n",
              "      border-bottom-color: var(--fill-color);\n",
              "    }\n",
              "  }\n",
              "</style>\n",
              "\n",
              "      <script>\n",
              "        async function quickchart(key) {\n",
              "          const quickchartButtonEl =\n",
              "            document.querySelector('#' + key + ' button');\n",
              "          quickchartButtonEl.disabled = true;  // To prevent multiple clicks.\n",
              "          quickchartButtonEl.classList.add('colab-df-spinner');\n",
              "          try {\n",
              "            const charts = await google.colab.kernel.invokeFunction(\n",
              "                'suggestCharts', [key], {});\n",
              "          } catch (error) {\n",
              "            console.error('Error during call to suggestCharts:', error);\n",
              "          }\n",
              "          quickchartButtonEl.classList.remove('colab-df-spinner');\n",
              "          quickchartButtonEl.classList.add('colab-df-quickchart-complete');\n",
              "        }\n",
              "        (() => {\n",
              "          let quickchartButtonEl =\n",
              "            document.querySelector('#df-0b271a12-a6e6-4852-ad41-671dc562fda3 button');\n",
              "          quickchartButtonEl.style.display =\n",
              "            google.colab.kernel.accessAllowed ? 'block' : 'none';\n",
              "        })();\n",
              "      </script>\n",
              "    </div>\n",
              "\n",
              "    </div>\n",
              "  </div>\n"
            ],
            "application/vnd.google.colaboratory.intrinsic+json": {
              "type": "dataframe",
              "summary": "{\n  \"name\": \"df\",\n  \"rows\": 9,\n  \"fields\": [\n    {\n      \"column\": [\n        \"fish\",\n        \"\"\n      ],\n      \"properties\": {\n        \"dtype\": \"string\",\n        \"num_unique_values\": 9,\n        \"samples\": [\n          \"sing\",\n          \"koi\",\n          \"shrimp\"\n        ],\n        \"semantic_type\": \"\",\n        \"description\": \"\"\n      }\n    },\n    {\n      \"column\": [\n        \"ph\",\n        \"mean\"\n      ],\n      \"properties\": {\n        \"dtype\": \"number\",\n        \"std\": 0.6492003628396329,\n        \"min\": 6.68,\n        \"max\": 8.59,\n        \"num_unique_values\": 9,\n        \"samples\": [\n          7.2,\n          6.86,\n          6.95\n        ],\n        \"semantic_type\": \"\",\n        \"description\": \"\"\n      }\n    },\n    {\n      \"column\": [\n        \"ph\",\n        \"std\"\n      ],\n      \"properties\": {\n        \"dtype\": \"number\",\n        \"std\": 0.24997222067884087,\n        \"min\": 0.07,\n        \"max\": 0.94,\n        \"num_unique_values\": 8,\n        \"samples\": [\n          0.94,\n          0.26,\n          0.5\n        ],\n        \"semantic_type\": \"\",\n        \"description\": \"\"\n      }\n    },\n    {\n      \"column\": [\n        \"temperature\",\n        \"mean\"\n      ],\n      \"properties\": {\n        \"dtype\": \"number\",\n        \"std\": 3.665709344724428,\n        \"min\": 18.89,\n        \"max\": 29.0,\n        \"num_unique_values\": 9,\n        \"samples\": [\n          21.12,\n          28.7,\n          21.19\n        ],\n        \"semantic_type\": \"\",\n        \"description\": \"\"\n      }\n    },\n    {\n      \"column\": [\n        \"temperature\",\n        \"std\"\n      ],\n      \"properties\": {\n        \"dtype\": \"number\",\n        \"std\": 1.606168664175023,\n        \"min\": 0.06,\n        \"max\": 4.45,\n        \"num_unique_values\": 8,\n        \"samples\": [\n          2.41,\n          0.06,\n          3.22\n        ],\n        \"semantic_type\": \"\",\n        \"description\": \"\"\n      }\n    },\n    {\n      \"column\": [\n        \"turbidity\",\n        \"mean\"\n      ],\n      \"properties\": {\n        \"dtype\": \"number\",\n        \"std\": 0.2372235232855291,\n        \"min\": 3.45,\n        \"max\": 4.08,\n        \"num_unique_values\": 9,\n        \"samples\": [\n          3.57,\n          4.08,\n          3.61\n        ],\n        \"semantic_type\": \"\",\n        \"description\": \"\"\n      }\n    },\n    {\n      \"column\": [\n        \"turbidity\",\n        \"std\"\n      ],\n      \"properties\": {\n        \"dtype\": \"number\",\n        \"std\": 0.07677528537520681,\n        \"min\": 0.0,\n        \"max\": 0.19,\n        \"num_unique_values\": 7,\n        \"samples\": [\n          0.18,\n          0.06,\n          0.0\n        ],\n        \"semantic_type\": \"\",\n        \"description\": \"\"\n      }\n    }\n  ]\n}"
            }
          },
          "metadata": {},
          "execution_count": 17
        }
      ]
    },
    {
      "cell_type": "markdown",
      "source": [
        "Tabel ini memberikan gambaran tentang karakteristik lingkungan (pH, suhu, dan kekeruhan) di mana berbagai jenis ikan (katla, koi, pangas, prawn, rui, shrimp, silverCup, sing, tilapia) ditemukan atau hidup. Dengan melihat rata-rata dan standar deviasi, kita dapat mengidentifikasi preferensi atau toleransi lingkungan yang berbeda untuk setiap spesies."
      ],
      "metadata": {
        "id": "VsyucGxX0b_y"
      }
    },
    {
      "cell_type": "code",
      "source": [
        "ideal_range = {\n",
        "    'ph': (6.5, 8.5),\n",
        "    'temperature': (20, 30),\n",
        "    'turbidity': (0, 5)\n",
        "}"
      ],
      "metadata": {
        "id": "ct6jNwuVZKtY"
      },
      "execution_count": null,
      "outputs": []
    },
    {
      "cell_type": "markdown",
      "source": [
        "Pada tahap ini, didefinisikan rentang nilai ideal untuk pH, suhu, dan kekeruhan air. Rentang ini digunakan sebagai acuan untuk menilai kualitas air."
      ],
      "metadata": {
        "id": "9MXOLVwj1Hfv"
      }
    },
    {
      "cell_type": "code",
      "source": [
        "def evaluate_water_quality(row):\n",
        "    score = 0\n",
        "\n",
        "    # Cek pH\n",
        "    if ideal_range['ph'][0] <= row['ph'] <= ideal_range['ph'][1]:\n",
        "        score += 1\n",
        "\n",
        "    # Cek Suhu\n",
        "    if ideal_range['temperature'][0] <= row['temperature'] <= ideal_range['temperature'][1]:\n",
        "        score += 1\n",
        "\n",
        "    # Cek Kekeruhan\n",
        "    if ideal_range['turbidity'][0] <= row['turbidity'] <= ideal_range['turbidity'][1]:\n",
        "        score += 1\n",
        "\n",
        "    # Evaluasi Total Skor\n",
        "    if score == 3:\n",
        "        return \"Good\"\n",
        "    elif score == 2:\n",
        "        return \"Okay, Needed Care\"\n",
        "    else:\n",
        "        return \"Bad\"\n"
      ],
      "metadata": {
        "id": "Bt583xIYZNqx"
      },
      "execution_count": null,
      "outputs": []
    },
    {
      "cell_type": "markdown",
      "source": [
        "Pada tahap ini dibuatkan sebuah fungsi untuk memeriksa apakah nilai setiap parameter air pada satu baris data masuk dalam rentang ideal.Setiap parameter yang sesuai mendapat skor 1.\n",
        "\n",
        "Total skor menentukan kategori kualitas air:\n",
        "\n",
        "3 → \"Good\", yang berarti kualitas air sudah cukup bagus untuk melakukan pembudidayaan ikan\n",
        "\n",
        "2 → \"Okay, Needed Care\", yang berarti kualitas air berada di batasan layak untuk digunakan namun dibutuhkan perawatan lebih lanjut\n",
        "\n",
        "0-1 → \"Bad\", yang berarti bahwa kualitas air sudah tidak layak untuk dilakukan pembudidayaan, dan harus segera dilakukan perawatan intensif.\n",
        "\n"
      ],
      "metadata": {
        "id": "kY-Y9pH-1TK7"
      }
    },
    {
      "cell_type": "code",
      "source": [
        "df['quality'] = df.apply(evaluate_water_quality, axis=1)\n",
        "df[['ph', 'temperature', 'turbidity', 'quality']].head()"
      ],
      "metadata": {
        "colab": {
          "base_uri": "https://localhost:8080/",
          "height": 310
        },
        "id": "l6W5SNWRZOvZ",
        "outputId": "c11ca7eb-1569-458f-a291-842cf195a7e8"
      },
      "execution_count": null,
      "outputs": [
        {
          "output_type": "stream",
          "name": "stderr",
          "text": [
            "<ipython-input-20-efe254c2d226>:1: SettingWithCopyWarning: \n",
            "A value is trying to be set on a copy of a slice from a DataFrame.\n",
            "Try using .loc[row_indexer,col_indexer] = value instead\n",
            "\n",
            "See the caveats in the documentation: https://pandas.pydata.org/pandas-docs/stable/user_guide/indexing.html#returning-a-view-versus-a-copy\n",
            "  df['quality'] = df.apply(evaluate_water_quality, axis=1)\n"
          ]
        },
        {
          "output_type": "execute_result",
          "data": {
            "text/plain": [
              "    ph  temperature  turbidity            quality\n",
              "0  6.0         27.0        4.0  Okay, Needed Care\n",
              "5  6.9         25.0        4.0               Good\n",
              "6  7.3         30.0        4.0               Good\n",
              "7  7.2         29.0        4.0               Good\n",
              "8  7.5         32.0        4.0  Okay, Needed Care"
            ],
            "text/html": [
              "\n",
              "  <div id=\"df-8bc7ab9c-295b-4042-87fd-895bfd3e89db\" class=\"colab-df-container\">\n",
              "    <div>\n",
              "<style scoped>\n",
              "    .dataframe tbody tr th:only-of-type {\n",
              "        vertical-align: middle;\n",
              "    }\n",
              "\n",
              "    .dataframe tbody tr th {\n",
              "        vertical-align: top;\n",
              "    }\n",
              "\n",
              "    .dataframe thead th {\n",
              "        text-align: right;\n",
              "    }\n",
              "</style>\n",
              "<table border=\"1\" class=\"dataframe\">\n",
              "  <thead>\n",
              "    <tr style=\"text-align: right;\">\n",
              "      <th></th>\n",
              "      <th>ph</th>\n",
              "      <th>temperature</th>\n",
              "      <th>turbidity</th>\n",
              "      <th>quality</th>\n",
              "    </tr>\n",
              "  </thead>\n",
              "  <tbody>\n",
              "    <tr>\n",
              "      <th>0</th>\n",
              "      <td>6.0</td>\n",
              "      <td>27.0</td>\n",
              "      <td>4.0</td>\n",
              "      <td>Okay, Needed Care</td>\n",
              "    </tr>\n",
              "    <tr>\n",
              "      <th>5</th>\n",
              "      <td>6.9</td>\n",
              "      <td>25.0</td>\n",
              "      <td>4.0</td>\n",
              "      <td>Good</td>\n",
              "    </tr>\n",
              "    <tr>\n",
              "      <th>6</th>\n",
              "      <td>7.3</td>\n",
              "      <td>30.0</td>\n",
              "      <td>4.0</td>\n",
              "      <td>Good</td>\n",
              "    </tr>\n",
              "    <tr>\n",
              "      <th>7</th>\n",
              "      <td>7.2</td>\n",
              "      <td>29.0</td>\n",
              "      <td>4.0</td>\n",
              "      <td>Good</td>\n",
              "    </tr>\n",
              "    <tr>\n",
              "      <th>8</th>\n",
              "      <td>7.5</td>\n",
              "      <td>32.0</td>\n",
              "      <td>4.0</td>\n",
              "      <td>Okay, Needed Care</td>\n",
              "    </tr>\n",
              "  </tbody>\n",
              "</table>\n",
              "</div>\n",
              "    <div class=\"colab-df-buttons\">\n",
              "\n",
              "  <div class=\"colab-df-container\">\n",
              "    <button class=\"colab-df-convert\" onclick=\"convertToInteractive('df-8bc7ab9c-295b-4042-87fd-895bfd3e89db')\"\n",
              "            title=\"Convert this dataframe to an interactive table.\"\n",
              "            style=\"display:none;\">\n",
              "\n",
              "  <svg xmlns=\"http://www.w3.org/2000/svg\" height=\"24px\" viewBox=\"0 -960 960 960\">\n",
              "    <path d=\"M120-120v-720h720v720H120Zm60-500h600v-160H180v160Zm220 220h160v-160H400v160Zm0 220h160v-160H400v160ZM180-400h160v-160H180v160Zm440 0h160v-160H620v160ZM180-180h160v-160H180v160Zm440 0h160v-160H620v160Z\"/>\n",
              "  </svg>\n",
              "    </button>\n",
              "\n",
              "  <style>\n",
              "    .colab-df-container {\n",
              "      display:flex;\n",
              "      gap: 12px;\n",
              "    }\n",
              "\n",
              "    .colab-df-convert {\n",
              "      background-color: #E8F0FE;\n",
              "      border: none;\n",
              "      border-radius: 50%;\n",
              "      cursor: pointer;\n",
              "      display: none;\n",
              "      fill: #1967D2;\n",
              "      height: 32px;\n",
              "      padding: 0 0 0 0;\n",
              "      width: 32px;\n",
              "    }\n",
              "\n",
              "    .colab-df-convert:hover {\n",
              "      background-color: #E2EBFA;\n",
              "      box-shadow: 0px 1px 2px rgba(60, 64, 67, 0.3), 0px 1px 3px 1px rgba(60, 64, 67, 0.15);\n",
              "      fill: #174EA6;\n",
              "    }\n",
              "\n",
              "    .colab-df-buttons div {\n",
              "      margin-bottom: 4px;\n",
              "    }\n",
              "\n",
              "    [theme=dark] .colab-df-convert {\n",
              "      background-color: #3B4455;\n",
              "      fill: #D2E3FC;\n",
              "    }\n",
              "\n",
              "    [theme=dark] .colab-df-convert:hover {\n",
              "      background-color: #434B5C;\n",
              "      box-shadow: 0px 1px 3px 1px rgba(0, 0, 0, 0.15);\n",
              "      filter: drop-shadow(0px 1px 2px rgba(0, 0, 0, 0.3));\n",
              "      fill: #FFFFFF;\n",
              "    }\n",
              "  </style>\n",
              "\n",
              "    <script>\n",
              "      const buttonEl =\n",
              "        document.querySelector('#df-8bc7ab9c-295b-4042-87fd-895bfd3e89db button.colab-df-convert');\n",
              "      buttonEl.style.display =\n",
              "        google.colab.kernel.accessAllowed ? 'block' : 'none';\n",
              "\n",
              "      async function convertToInteractive(key) {\n",
              "        const element = document.querySelector('#df-8bc7ab9c-295b-4042-87fd-895bfd3e89db');\n",
              "        const dataTable =\n",
              "          await google.colab.kernel.invokeFunction('convertToInteractive',\n",
              "                                                    [key], {});\n",
              "        if (!dataTable) return;\n",
              "\n",
              "        const docLinkHtml = 'Like what you see? Visit the ' +\n",
              "          '<a target=\"_blank\" href=https://colab.research.google.com/notebooks/data_table.ipynb>data table notebook</a>'\n",
              "          + ' to learn more about interactive tables.';\n",
              "        element.innerHTML = '';\n",
              "        dataTable['output_type'] = 'display_data';\n",
              "        await google.colab.output.renderOutput(dataTable, element);\n",
              "        const docLink = document.createElement('div');\n",
              "        docLink.innerHTML = docLinkHtml;\n",
              "        element.appendChild(docLink);\n",
              "      }\n",
              "    </script>\n",
              "  </div>\n",
              "\n",
              "\n",
              "    <div id=\"df-4d0968da-0be6-4cae-8914-3b55b32bfc9a\">\n",
              "      <button class=\"colab-df-quickchart\" onclick=\"quickchart('df-4d0968da-0be6-4cae-8914-3b55b32bfc9a')\"\n",
              "                title=\"Suggest charts\"\n",
              "                style=\"display:none;\">\n",
              "\n",
              "<svg xmlns=\"http://www.w3.org/2000/svg\" height=\"24px\"viewBox=\"0 0 24 24\"\n",
              "     width=\"24px\">\n",
              "    <g>\n",
              "        <path d=\"M19 3H5c-1.1 0-2 .9-2 2v14c0 1.1.9 2 2 2h14c1.1 0 2-.9 2-2V5c0-1.1-.9-2-2-2zM9 17H7v-7h2v7zm4 0h-2V7h2v10zm4 0h-2v-4h2v4z\"/>\n",
              "    </g>\n",
              "</svg>\n",
              "      </button>\n",
              "\n",
              "<style>\n",
              "  .colab-df-quickchart {\n",
              "      --bg-color: #E8F0FE;\n",
              "      --fill-color: #1967D2;\n",
              "      --hover-bg-color: #E2EBFA;\n",
              "      --hover-fill-color: #174EA6;\n",
              "      --disabled-fill-color: #AAA;\n",
              "      --disabled-bg-color: #DDD;\n",
              "  }\n",
              "\n",
              "  [theme=dark] .colab-df-quickchart {\n",
              "      --bg-color: #3B4455;\n",
              "      --fill-color: #D2E3FC;\n",
              "      --hover-bg-color: #434B5C;\n",
              "      --hover-fill-color: #FFFFFF;\n",
              "      --disabled-bg-color: #3B4455;\n",
              "      --disabled-fill-color: #666;\n",
              "  }\n",
              "\n",
              "  .colab-df-quickchart {\n",
              "    background-color: var(--bg-color);\n",
              "    border: none;\n",
              "    border-radius: 50%;\n",
              "    cursor: pointer;\n",
              "    display: none;\n",
              "    fill: var(--fill-color);\n",
              "    height: 32px;\n",
              "    padding: 0;\n",
              "    width: 32px;\n",
              "  }\n",
              "\n",
              "  .colab-df-quickchart:hover {\n",
              "    background-color: var(--hover-bg-color);\n",
              "    box-shadow: 0 1px 2px rgba(60, 64, 67, 0.3), 0 1px 3px 1px rgba(60, 64, 67, 0.15);\n",
              "    fill: var(--button-hover-fill-color);\n",
              "  }\n",
              "\n",
              "  .colab-df-quickchart-complete:disabled,\n",
              "  .colab-df-quickchart-complete:disabled:hover {\n",
              "    background-color: var(--disabled-bg-color);\n",
              "    fill: var(--disabled-fill-color);\n",
              "    box-shadow: none;\n",
              "  }\n",
              "\n",
              "  .colab-df-spinner {\n",
              "    border: 2px solid var(--fill-color);\n",
              "    border-color: transparent;\n",
              "    border-bottom-color: var(--fill-color);\n",
              "    animation:\n",
              "      spin 1s steps(1) infinite;\n",
              "  }\n",
              "\n",
              "  @keyframes spin {\n",
              "    0% {\n",
              "      border-color: transparent;\n",
              "      border-bottom-color: var(--fill-color);\n",
              "      border-left-color: var(--fill-color);\n",
              "    }\n",
              "    20% {\n",
              "      border-color: transparent;\n",
              "      border-left-color: var(--fill-color);\n",
              "      border-top-color: var(--fill-color);\n",
              "    }\n",
              "    30% {\n",
              "      border-color: transparent;\n",
              "      border-left-color: var(--fill-color);\n",
              "      border-top-color: var(--fill-color);\n",
              "      border-right-color: var(--fill-color);\n",
              "    }\n",
              "    40% {\n",
              "      border-color: transparent;\n",
              "      border-right-color: var(--fill-color);\n",
              "      border-top-color: var(--fill-color);\n",
              "    }\n",
              "    60% {\n",
              "      border-color: transparent;\n",
              "      border-right-color: var(--fill-color);\n",
              "    }\n",
              "    80% {\n",
              "      border-color: transparent;\n",
              "      border-right-color: var(--fill-color);\n",
              "      border-bottom-color: var(--fill-color);\n",
              "    }\n",
              "    90% {\n",
              "      border-color: transparent;\n",
              "      border-bottom-color: var(--fill-color);\n",
              "    }\n",
              "  }\n",
              "</style>\n",
              "\n",
              "      <script>\n",
              "        async function quickchart(key) {\n",
              "          const quickchartButtonEl =\n",
              "            document.querySelector('#' + key + ' button');\n",
              "          quickchartButtonEl.disabled = true;  // To prevent multiple clicks.\n",
              "          quickchartButtonEl.classList.add('colab-df-spinner');\n",
              "          try {\n",
              "            const charts = await google.colab.kernel.invokeFunction(\n",
              "                'suggestCharts', [key], {});\n",
              "          } catch (error) {\n",
              "            console.error('Error during call to suggestCharts:', error);\n",
              "          }\n",
              "          quickchartButtonEl.classList.remove('colab-df-spinner');\n",
              "          quickchartButtonEl.classList.add('colab-df-quickchart-complete');\n",
              "        }\n",
              "        (() => {\n",
              "          let quickchartButtonEl =\n",
              "            document.querySelector('#df-4d0968da-0be6-4cae-8914-3b55b32bfc9a button');\n",
              "          quickchartButtonEl.style.display =\n",
              "            google.colab.kernel.accessAllowed ? 'block' : 'none';\n",
              "        })();\n",
              "      </script>\n",
              "    </div>\n",
              "\n",
              "    </div>\n",
              "  </div>\n"
            ],
            "application/vnd.google.colaboratory.intrinsic+json": {
              "type": "dataframe",
              "summary": "{\n  \"name\": \"df[['ph', 'temperature', 'turbidity', 'quality']]\",\n  \"rows\": 5,\n  \"fields\": [\n    {\n      \"column\": \"ph\",\n      \"properties\": {\n        \"dtype\": \"number\",\n        \"std\": 0.5890670590009256,\n        \"min\": 6.0,\n        \"max\": 7.5,\n        \"num_unique_values\": 5,\n        \"samples\": [\n          6.9,\n          7.5,\n          7.3\n        ],\n        \"semantic_type\": \"\",\n        \"description\": \"\"\n      }\n    },\n    {\n      \"column\": \"temperature\",\n      \"properties\": {\n        \"dtype\": \"number\",\n        \"std\": 2.701851217221259,\n        \"min\": 25.0,\n        \"max\": 32.0,\n        \"num_unique_values\": 5,\n        \"samples\": [\n          25.0,\n          32.0,\n          30.0\n        ],\n        \"semantic_type\": \"\",\n        \"description\": \"\"\n      }\n    },\n    {\n      \"column\": \"turbidity\",\n      \"properties\": {\n        \"dtype\": \"number\",\n        \"std\": 0.0,\n        \"min\": 4.0,\n        \"max\": 4.0,\n        \"num_unique_values\": 1,\n        \"samples\": [\n          4.0\n        ],\n        \"semantic_type\": \"\",\n        \"description\": \"\"\n      }\n    },\n    {\n      \"column\": \"quality\",\n      \"properties\": {\n        \"dtype\": \"category\",\n        \"num_unique_values\": 2,\n        \"samples\": [\n          \"Good\"\n        ],\n        \"semantic_type\": \"\",\n        \"description\": \"\"\n      }\n    }\n  ]\n}"
            }
          },
          "metadata": {},
          "execution_count": 20
        }
      ]
    },
    {
      "cell_type": "markdown",
      "source": [
        "Pada tahapan diatas, dilakukan memasukkan hasil evaluasi kualitas air pada tahap sebelumnya kedalam seluruh data pada dataset yang disimpan dalam kolom baru bernama 'quality'."
      ],
      "metadata": {
        "id": "lAKp-_rz1kZM"
      }
    },
    {
      "cell_type": "code",
      "source": [
        "plt.figure(figsize=(6,4))\n",
        "sns.countplot(x='quality', data=df, palette='Set2')\n",
        "plt.title('Distribusi Kualitas Air Kolam')\n",
        "plt.xlabel('Kategori Kualitas Air')\n",
        "plt.ylabel('Jumlah Sampel')\n",
        "plt.show()\n"
      ],
      "metadata": {
        "colab": {
          "base_uri": "https://localhost:8080/",
          "height": 517
        },
        "id": "LPbVMT1wZReg",
        "outputId": "a5d1ee1e-5ddd-46ca-f49e-fa6ff3d1fd66"
      },
      "execution_count": null,
      "outputs": [
        {
          "output_type": "stream",
          "name": "stderr",
          "text": [
            "<ipython-input-21-76551eede5ba>:2: FutureWarning: \n",
            "\n",
            "Passing `palette` without assigning `hue` is deprecated and will be removed in v0.14.0. Assign the `x` variable to `hue` and set `legend=False` for the same effect.\n",
            "\n",
            "  sns.countplot(x='quality', data=df, palette='Set2')\n"
          ]
        },
        {
          "output_type": "display_data",
          "data": {
            "text/plain": [
              "<Figure size 600x400 with 1 Axes>"
            ],
            "image/png": "[encoded data removed]"
          },
          "metadata": {}
        }
      ]
    },
    {
      "cell_type": "markdown",
      "source": [
        "Dari hasil distribusi diatas, ditunjikkan bahwa kategori kualitas air yang didapati setelah diberikan kategori, kualitas \"Good\" mendapatkan jumlah yang lebih banyak dibandingkan dengan yang lain sekitar 250. Hal ini menunjukkan bahwa pembudidaya memberikan kualitas air yang bagus, namun terdapat juga kategori kualitas air yang jelek yang harus perlu ditinjau ulang."
      ],
      "metadata": {
        "id": "unAuYk_Z15pS"
      }
    },
    {
      "cell_type": "code",
      "source": [
        "le = LabelEncoder()\n",
        "df['fish'] = le.fit_transform(df['fish'])"
      ],
      "metadata": {
        "colab": {
          "base_uri": "https://localhost:8080/"
        },
        "id": "H1MtgsT5cvgX",
        "outputId": "122a3ad8-3195-4c2a-f1d1-28164bacdfeb"
      },
      "execution_count": null,
      "outputs": [
        {
          "output_type": "stream",
          "name": "stderr",
          "text": [
            "<ipython-input-22-049ca99a18bd>:2: SettingWithCopyWarning: \n",
            "A value is trying to be set on a copy of a slice from a DataFrame.\n",
            "Try using .loc[row_indexer,col_indexer] = value instead\n",
            "\n",
            "See the caveats in the documentation: https://pandas.pydata.org/pandas-docs/stable/user_guide/indexing.html#returning-a-view-versus-a-copy\n",
            "  df['fish'] = le.fit_transform(df['fish'])\n"
          ]
        }
      ]
    },
    {
      "cell_type": "markdown",
      "source": [
        "Pada tahap ini, dilakukan encoding label untuk mengganti nilai-nilai teks pada kolom fish dengan angka bulat. Setiap jenis ikan yang unik akan diberi label numerik yang berbeda Setelah operasi ini, kolom fish dalam DataFrame Anda akan berisi angka-angka, bukan lagi nama ikan dalam bentuk teks."
      ],
      "metadata": {
        "id": "05rpYC8-2bzO"
      }
    },
    {
      "cell_type": "code",
      "source": [
        "from sklearn.model_selection import train_test_split\n",
        "\n",
        "X = df[['fish', 'ph', 'temperature', 'turbidity']]\n",
        "y = df['quality']\n",
        "\n",
        "X_train, X_test, y_train, y_test = train_test_split(X, y, test_size=0.2, random_state=42)\n"
      ],
      "metadata": {
        "id": "o97JENPyYlfJ"
      },
      "execution_count": null,
      "outputs": []
    },
    {
      "cell_type": "markdown",
      "source": [
        "Setelah data telah dibersihkan dan dibuat dengan preferensi sendiri, selanjutnya adalah menbagi data menjadi dua bagian yaitu data training dan data testing guna melatih model dalam mengidentifikasi jenis kategori kualitas air untuk data baru. Pembagian ini dilakukan menggunakan fungsi train_test_split."
      ],
      "metadata": {
        "id": "iCWluxr42tsh"
      }
    },
    {
      "cell_type": "markdown",
      "source": [
        "# Modelling\n",
        "\n",
        "Setelah data yang dibutuhkan telah siap, selanjutnya ialah proses membangun model prediktif menggunakan teknik machine learning. Data yang telah dipersiapkan digunakan untuk melatih dan menguji berbagai algoritma seperti KNN, RandomForest, atau Boosting Algorithm untuk menemukan model terbaik. Aktivitas utama meliputi pemilihan metode modeling yang sesuai, pelatihan model dengan data training, pengujian model menggunakan data testing, serta evaluasi performa model menggunakan metrik seperti akurasi"
      ],
      "metadata": {
        "id": "A3UwWyKfW9NC"
      }
    },
    {
      "cell_type": "code",
      "source": [
        "from sklearn.neighbors import KNeighborsClassifier\n",
        "from sklearn.ensemble import RandomForestClassifier, AdaBoostClassifier\n",
        "\n",
        "\n",
        "# Inisialisasi model\n",
        "models = {\n",
        "    'KNN': KNeighborsClassifier(),\n",
        "    'Random Forest': RandomForestClassifier(random_state=42),\n",
        "    'AdaBoost': AdaBoostClassifier(random_state=42)\n",
        "}\n",
        "\n",
        "# Training dan evaluasi\n",
        "for name, model in models.items():\n",
        "    model.fit(X_train, y_train)\n",
        "    y_pred = model.predict(X_test)\n",
        "    acc = accuracy_score(y_test, y_pred)\n",
        "    print(f\"\\nModel: {name}\")\n",
        "    print(\"Accuracy:\", acc)\n",
        "    print(classification_report(y_test, y_pred))\n"
      ],
      "metadata": {
        "colab": {
          "base_uri": "https://localhost:8080/"
        },
        "id": "N0Eycwm2YnZa",
        "outputId": "fef08fba-ddec-457a-c9d3-bdaf88a1e982"
      },
      "execution_count": null,
      "outputs": [
        {
          "output_type": "stream",
          "name": "stdout",
          "text": [
            "\n",
            "Model: KNN\n",
            "Accuracy: 0.9130434782608695\n",
            "                   precision    recall  f1-score   support\n",
            "\n",
            "              Bad       0.88      0.88      0.88        17\n",
            "             Good       0.88      1.00      0.94        45\n",
            "Okay, Needed Care       1.00      0.80      0.89        30\n",
            "\n",
            "         accuracy                           0.91        92\n",
            "        macro avg       0.92      0.89      0.90        92\n",
            "     weighted avg       0.92      0.91      0.91        92\n",
            "\n",
            "\n",
            "Model: Random Forest\n",
            "Accuracy: 0.9782608695652174\n",
            "                   precision    recall  f1-score   support\n",
            "\n",
            "              Bad       1.00      0.88      0.94        17\n",
            "             Good       1.00      1.00      1.00        45\n",
            "Okay, Needed Care       0.94      1.00      0.97        30\n",
            "\n",
            "         accuracy                           0.98        92\n",
            "        macro avg       0.98      0.96      0.97        92\n",
            "     weighted avg       0.98      0.98      0.98        92\n",
            "\n",
            "\n",
            "Model: AdaBoost\n",
            "Accuracy: 0.9565217391304348\n",
            "                   precision    recall  f1-score   support\n",
            "\n",
            "              Bad       1.00      0.88      0.94        17\n",
            "             Good       0.92      1.00      0.96        45\n",
            "Okay, Needed Care       1.00      0.93      0.97        30\n",
            "\n",
            "         accuracy                           0.96        92\n",
            "        macro avg       0.97      0.94      0.95        92\n",
            "     weighted avg       0.96      0.96      0.96        92\n",
            "\n"
          ]
        }
      ]
    },
    {
      "cell_type": "markdown",
      "source": [
        "Kode tersebut digunakan untuk membandingkan performa tiga model klasifikasi, yaitu K-Nearest Neighbors (KNN), Random Forest, dan AdaBoost. Setiap model dilatih menggunakan data training dan diuji dengan data testing. Hasil prediksi kemudian dievaluasi menggunakan metrik akurasi dan classification report yang mencakup precision, recall, dan f1-score. Tujuan dari proses ini adalah untuk menentukan model mana yang memberikan hasil terbaik dalam mengklasifikasikan kualitas air kolam berdasarkan parameter yang tersedia."
      ],
      "metadata": {
        "id": "WoBFmNhv3TyO"
      }
    },
    {
      "cell_type": "code",
      "source": [
        "import matplotlib.pyplot as plt\n",
        "\n",
        "model_akurasi = []\n",
        "\n",
        "for name, model in models.items():\n",
        "    y_pred = model.predict(X_test)\n",
        "    acc = accuracy_score(y_test, y_pred)\n",
        "    model_akurasi.append((name, acc))\n",
        "\n",
        "# Plot\n",
        "nama_model, akurasi = zip(*model_akurasi)\n",
        "plt.bar(nama_model, akurasi, color='skyblue')\n",
        "plt.ylabel('Akurasi')\n",
        "plt.title('Perbandingan Akurasi Model')\n",
        "plt.ylim(0, 1)\n",
        "plt.show()\n"
      ],
      "metadata": {
        "id": "fnLo8o5WaNuI",
        "colab": {
          "base_uri": "https://localhost:8080/",
          "height": 452
        },
        "outputId": "ee820587-eb17-4c72-e22a-8f942e64e4ed"
      },
      "execution_count": null,
      "outputs": [
        {
          "output_type": "display_data",
          "data": {
            "text/plain": [
              "<Figure size 640x480 with 1 Axes>"
            ],
            "image/png": "[encoded data removed]"
          },
          "metadata": {}
        }
      ]
    },
    {
      "cell_type": "markdown",
      "source": [
        "Dari hasil pengujian ketiga algoritma (KNN, RandomForest, dan Adaboost), didapati hasil bahwa ketiga algoritma dapat digunakan untuk identifikasi kategori kualitas air kolam. Oleh karena itu, digunakan algoritma RandomForest karena didapati hasil paling tunggu untuk melakukan klasifikasi."
      ],
      "metadata": {
        "id": "z5ddBUfufAfC"
      }
    },
    {
      "cell_type": "code",
      "source": [
        "best_model = RandomForestClassifier(random_state=42)\n",
        "best_model.fit(X_train, y_train)"
      ],
      "metadata": {
        "id": "CXGfboryaavp",
        "colab": {
          "base_uri": "https://localhost:8080/",
          "height": 80
        },
        "outputId": "f597f5c0-2d40-4850-a366-f7a19d775dc6"
      },
      "execution_count": null,
      "outputs": [
        {
          "output_type": "execute_result",
          "data": {
            "text/plain": [
              "RandomForestClassifier(random_state=42)"
            ],
            "text/html": [
              "<style>#sk-container-id-1 {\n",
              "  /* Definition of color scheme common for light and dark mode */\n",
              "  --sklearn-color-text: #000;\n",
              "  --sklearn-color-text-muted: #666;\n",
              "  --sklearn-color-line: gray;\n",
              "  /* Definition of color scheme for unfitted estimators */\n",
              "  --sklearn-color-unfitted-level-0: #fff5e6;\n",
              "  --sklearn-color-unfitted-level-1: #f6e4d2;\n",
              "  --sklearn-color-unfitted-level-2: #ffe0b3;\n",
              "  --sklearn-color-unfitted-level-3: chocolate;\n",
              "  /* Definition of color scheme for fitted estimators */\n",
              "  --sklearn-color-fitted-level-0: #f0f8ff;\n",
              "  --sklearn-color-fitted-level-1: #d4ebff;\n",
              "  --sklearn-color-fitted-level-2: #b3dbfd;\n",
              "  --sklearn-color-fitted-level-3: cornflowerblue;\n",
              "\n",
              "  /* Specific color for light theme */\n",
              "  --sklearn-color-text-on-default-background: var(--sg-text-color, var(--theme-code-foreground, var(--jp-content-font-color1, black)));\n",
              "  --sklearn-color-background: var(--sg-background-color, var(--theme-background, var(--jp-layout-color0, white)));\n",
              "  --sklearn-color-border-box: var(--sg-text-color, var(--theme-code-foreground, var(--jp-content-font-color1, black)));\n",
              "  --sklearn-color-icon: #696969;\n",
              "\n",
              "  @media (prefers-color-scheme: dark) {\n",
              "    /* Redefinition of color scheme for dark theme */\n",
              "    --sklearn-color-text-on-default-background: var(--sg-text-color, var(--theme-code-foreground, var(--jp-content-font-color1, white)));\n",
              "    --sklearn-color-background: var(--sg-background-color, var(--theme-background, var(--jp-layout-color0, #111)));\n",
              "    --sklearn-color-border-box: var(--sg-text-color, var(--theme-code-foreground, var(--jp-content-font-color1, white)));\n",
              "    --sklearn-color-icon: #878787;\n",
              "  }\n",
              "}\n",
              "\n",
              "#sk-container-id-1 {\n",
              "  color: var(--sklearn-color-text);\n",
              "}\n",
              "\n",
              "#sk-container-id-1 pre {\n",
              "  padding: 0;\n",
              "}\n",
              "\n",
              "#sk-container-id-1 input.sk-hidden--visually {\n",
              "  border: 0;\n",
              "  clip: rect(1px 1px 1px 1px);\n",
              "  clip: rect(1px, 1px, 1px, 1px);\n",
              "  height: 1px;\n",
              "  margin: -1px;\n",
              "  overflow: hidden;\n",
              "  padding: 0;\n",
              "  position: absolute;\n",
              "  width: 1px;\n",
              "}\n",
              "\n",
              "#sk-container-id-1 div.sk-dashed-wrapped {\n",
              "  border: 1px dashed var(--sklearn-color-line);\n",
              "  margin: 0 0.4em 0.5em 0.4em;\n",
              "  box-sizing: border-box;\n",
              "  padding-bottom: 0.4em;\n",
              "  background-color: var(--sklearn-color-background);\n",
              "}\n",
              "\n",
              "#sk-container-id-1 div.sk-container {\n",
              "  /* jupyter's `normalize.less` sets `[hidden] { display: none; }`\n",
              "     but bootstrap.min.css set `[hidden] { display: none !important; }`\n",
              "     so we also need the `!important` here to be able to override the\n",
              "     default hidden behavior on the sphinx rendered scikit-learn.org.\n",
              "     See: https://github.com/scikit-learn/scikit-learn/issues/21755 */\n",
              "  display: inline-block !important;\n",
              "  position: relative;\n",
              "}\n",
              "\n",
              "#sk-container-id-1 div.sk-text-repr-fallback {\n",
              "  display: none;\n",
              "}\n",
              "\n",
              "div.sk-parallel-item,\n",
              "div.sk-serial,\n",
              "div.sk-item {\n",
              "  /* draw centered vertical line to link estimators */\n",
              "  background-image: linear-gradient(var(--sklearn-color-text-on-default-background), var(--sklearn-color-text-on-default-background));\n",
              "  background-size: 2px 100%;\n",
              "  background-repeat: no-repeat;\n",
              "  background-position: center center;\n",
              "}\n",
              "\n",
              "/* Parallel-specific style estimator block */\n",
              "\n",
              "#sk-container-id-1 div.sk-parallel-item::after {\n",
              "  content: \"\";\n",
              "  width: 100%;\n",
              "  border-bottom: 2px solid var(--sklearn-color-text-on-default-background);\n",
              "  flex-grow: 1;\n",
              "}\n",
              "\n",
              "#sk-container-id-1 div.sk-parallel {\n",
              "  display: flex;\n",
              "  align-items: stretch;\n",
              "  justify-content: center;\n",
              "  background-color: var(--sklearn-color-background);\n",
              "  position: relative;\n",
              "}\n",
              "\n",
              "#sk-container-id-1 div.sk-parallel-item {\n",
              "  display: flex;\n",
              "  flex-direction: column;\n",
              "}\n",
              "\n",
              "#sk-container-id-1 div.sk-parallel-item:first-child::after {\n",
              "  align-self: flex-end;\n",
              "  width: 50%;\n",
              "}\n",
              "\n",
              "#sk-container-id-1 div.sk-parallel-item:last-child::after {\n",
              "  align-self: flex-start;\n",
              "  width: 50%;\n",
              "}\n",
              "\n",
              "#sk-container-id-1 div.sk-parallel-item:only-child::after {\n",
              "  width: 0;\n",
              "}\n",
              "\n",
              "/* Serial-specific style estimator block */\n",
              "\n",
              "#sk-container-id-1 div.sk-serial {\n",
              "  display: flex;\n",
              "  flex-direction: column;\n",
              "  align-items: center;\n",
              "  background-color: var(--sklearn-color-background);\n",
              "  padding-right: 1em;\n",
              "  padding-left: 1em;\n",
              "}\n",
              "\n",
              "\n",
              "/* Toggleable style: style used for estimator/Pipeline/ColumnTransformer box that is\n",
              "clickable and can be expanded/collapsed.\n",
              "- Pipeline and ColumnTransformer use this feature and define the default style\n",
              "- Estimators will overwrite some part of the style using the `sk-estimator` class\n",
              "*/\n",
              "\n",
              "/* Pipeline and ColumnTransformer style (default) */\n",
              "\n",
              "#sk-container-id-1 div.sk-toggleable {\n",
              "  /* Default theme specific background. It is overwritten whether we have a\n",
              "  specific estimator or a Pipeline/ColumnTransformer */\n",
              "  background-color: var(--sklearn-color-background);\n",
              "}\n",
              "\n",
              "/* Toggleable label */\n",
              "#sk-container-id-1 label.sk-toggleable__label {\n",
              "  cursor: pointer;\n",
              "  display: flex;\n",
              "  width: 100%;\n",
              "  margin-bottom: 0;\n",
              "  padding: 0.5em;\n",
              "  box-sizing: border-box;\n",
              "  text-align: center;\n",
              "  align-items: start;\n",
              "  justify-content: space-between;\n",
              "  gap: 0.5em;\n",
              "}\n",
              "\n",
              "#sk-container-id-1 label.sk-toggleable__label .caption {\n",
              "  font-size: 0.6rem;\n",
              "  font-weight: lighter;\n",
              "  color: var(--sklearn-color-text-muted);\n",
              "}\n",
              "\n",
              "#sk-container-id-1 label.sk-toggleable__label-arrow:before {\n",
              "  /* Arrow on the left of the label */\n",
              "  content: \"▸\";\n",
              "  float: left;\n",
              "  margin-right: 0.25em;\n",
              "  color: var(--sklearn-color-icon);\n",
              "}\n",
              "\n",
              "#sk-container-id-1 label.sk-toggleable__label-arrow:hover:before {\n",
              "  color: var(--sklearn-color-text);\n",
              "}\n",
              "\n",
              "/* Toggleable content - dropdown */\n",
              "\n",
              "#sk-container-id-1 div.sk-toggleable__content {\n",
              "  max-height: 0;\n",
              "  max-width: 0;\n",
              "  overflow: hidden;\n",
              "  text-align: left;\n",
              "  /* unfitted */\n",
              "  background-color: var(--sklearn-color-unfitted-level-0);\n",
              "}\n",
              "\n",
              "#sk-container-id-1 div.sk-toggleable__content.fitted {\n",
              "  /* fitted */\n",
              "  background-color: var(--sklearn-color-fitted-level-0);\n",
              "}\n",
              "\n",
              "#sk-container-id-1 div.sk-toggleable__content pre {\n",
              "  margin: 0.2em;\n",
              "  border-radius: 0.25em;\n",
              "  color: var(--sklearn-color-text);\n",
              "  /* unfitted */\n",
              "  background-color: var(--sklearn-color-unfitted-level-0);\n",
              "}\n",
              "\n",
              "#sk-container-id-1 div.sk-toggleable__content.fitted pre {\n",
              "  /* unfitted */\n",
              "  background-color: var(--sklearn-color-fitted-level-0);\n",
              "}\n",
              "\n",
              "#sk-container-id-1 input.sk-toggleable__control:checked~div.sk-toggleable__content {\n",
              "  /* Expand drop-down */\n",
              "  max-height: 200px;\n",
              "  max-width: 100%;\n",
              "  overflow: auto;\n",
              "}\n",
              "\n",
              "#sk-container-id-1 input.sk-toggleable__control:checked~label.sk-toggleable__label-arrow:before {\n",
              "  content: \"▾\";\n",
              "}\n",
              "\n",
              "/* Pipeline/ColumnTransformer-specific style */\n",
              "\n",
              "#sk-container-id-1 div.sk-label input.sk-toggleable__control:checked~label.sk-toggleable__label {\n",
              "  color: var(--sklearn-color-text);\n",
              "  background-color: var(--sklearn-color-unfitted-level-2);\n",
              "}\n",
              "\n",
              "#sk-container-id-1 div.sk-label.fitted input.sk-toggleable__control:checked~label.sk-toggleable__label {\n",
              "  background-color: var(--sklearn-color-fitted-level-2);\n",
              "}\n",
              "\n",
              "/* Estimator-specific style */\n",
              "\n",
              "/* Colorize estimator box */\n",
              "#sk-container-id-1 div.sk-estimator input.sk-toggleable__control:checked~label.sk-toggleable__label {\n",
              "  /* unfitted */\n",
              "  background-color: var(--sklearn-color-unfitted-level-2);\n",
              "}\n",
              "\n",
              "#sk-container-id-1 div.sk-estimator.fitted input.sk-toggleable__control:checked~label.sk-toggleable__label {\n",
              "  /* fitted */\n",
              "  background-color: var(--sklearn-color-fitted-level-2);\n",
              "}\n",
              "\n",
              "#sk-container-id-1 div.sk-label label.sk-toggleable__label,\n",
              "#sk-container-id-1 div.sk-label label {\n",
              "  /* The background is the default theme color */\n",
              "  color: var(--sklearn-color-text-on-default-background);\n",
              "}\n",
              "\n",
              "/* On hover, darken the color of the background */\n",
              "#sk-container-id-1 div.sk-label:hover label.sk-toggleable__label {\n",
              "  color: var(--sklearn-color-text);\n",
              "  background-color: var(--sklearn-color-unfitted-level-2);\n",
              "}\n",
              "\n",
              "/* Label box, darken color on hover, fitted */\n",
              "#sk-container-id-1 div.sk-label.fitted:hover label.sk-toggleable__label.fitted {\n",
              "  color: var(--sklearn-color-text);\n",
              "  background-color: var(--sklearn-color-fitted-level-2);\n",
              "}\n",
              "\n",
              "/* Estimator label */\n",
              "\n",
              "#sk-container-id-1 div.sk-label label {\n",
              "  font-family: monospace;\n",
              "  font-weight: bold;\n",
              "  display: inline-block;\n",
              "  line-height: 1.2em;\n",
              "}\n",
              "\n",
              "#sk-container-id-1 div.sk-label-container {\n",
              "  text-align: center;\n",
              "}\n",
              "\n",
              "/* Estimator-specific */\n",
              "#sk-container-id-1 div.sk-estimator {\n",
              "  font-family: monospace;\n",
              "  border: 1px dotted var(--sklearn-color-border-box);\n",
              "  border-radius: 0.25em;\n",
              "  box-sizing: border-box;\n",
              "  margin-bottom: 0.5em;\n",
              "  /* unfitted */\n",
              "  background-color: var(--sklearn-color-unfitted-level-0);\n",
              "}\n",
              "\n",
              "#sk-container-id-1 div.sk-estimator.fitted {\n",
              "  /* fitted */\n",
              "  background-color: var(--sklearn-color-fitted-level-0);\n",
              "}\n",
              "\n",
              "/* on hover */\n",
              "#sk-container-id-1 div.sk-estimator:hover {\n",
              "  /* unfitted */\n",
              "  background-color: var(--sklearn-color-unfitted-level-2);\n",
              "}\n",
              "\n",
              "#sk-container-id-1 div.sk-estimator.fitted:hover {\n",
              "  /* fitted */\n",
              "  background-color: var(--sklearn-color-fitted-level-2);\n",
              "}\n",
              "\n",
              "/* Specification for estimator info (e.g. \"i\" and \"?\") */\n",
              "\n",
              "/* Common style for \"i\" and \"?\" */\n",
              "\n",
              ".sk-estimator-doc-link,\n",
              "a:link.sk-estimator-doc-link,\n",
              "a:visited.sk-estimator-doc-link {\n",
              "  float: right;\n",
              "  font-size: smaller;\n",
              "  line-height: 1em;\n",
              "  font-family: monospace;\n",
              "  background-color: var(--sklearn-color-background);\n",
              "  border-radius: 1em;\n",
              "  height: 1em;\n",
              "  width: 1em;\n",
              "  text-decoration: none !important;\n",
              "  margin-left: 0.5em;\n",
              "  text-align: center;\n",
              "  /* unfitted */\n",
              "  border: var(--sklearn-color-unfitted-level-1) 1pt solid;\n",
              "  color: var(--sklearn-color-unfitted-level-1);\n",
              "}\n",
              "\n",
              ".sk-estimator-doc-link.fitted,\n",
              "a:link.sk-estimator-doc-link.fitted,\n",
              "a:visited.sk-estimator-doc-link.fitted {\n",
              "  /* fitted */\n",
              "  border: var(--sklearn-color-fitted-level-1) 1pt solid;\n",
              "  color: var(--sklearn-color-fitted-level-1);\n",
              "}\n",
              "\n",
              "/* On hover */\n",
              "div.sk-estimator:hover .sk-estimator-doc-link:hover,\n",
              ".sk-estimator-doc-link:hover,\n",
              "div.sk-label-container:hover .sk-estimator-doc-link:hover,\n",
              ".sk-estimator-doc-link:hover {\n",
              "  /* unfitted */\n",
              "  background-color: var(--sklearn-color-unfitted-level-3);\n",
              "  color: var(--sklearn-color-background);\n",
              "  text-decoration: none;\n",
              "}\n",
              "\n",
              "div.sk-estimator.fitted:hover .sk-estimator-doc-link.fitted:hover,\n",
              ".sk-estimator-doc-link.fitted:hover,\n",
              "div.sk-label-container:hover .sk-estimator-doc-link.fitted:hover,\n",
              ".sk-estimator-doc-link.fitted:hover {\n",
              "  /* fitted */\n",
              "  background-color: var(--sklearn-color-fitted-level-3);\n",
              "  color: var(--sklearn-color-background);\n",
              "  text-decoration: none;\n",
              "}\n",
              "\n",
              "/* Span, style for the box shown on hovering the info icon */\n",
              ".sk-estimator-doc-link span {\n",
              "  display: none;\n",
              "  z-index: 9999;\n",
              "  position: relative;\n",
              "  font-weight: normal;\n",
              "  right: .2ex;\n",
              "  padding: .5ex;\n",
              "  margin: .5ex;\n",
              "  width: min-content;\n",
              "  min-width: 20ex;\n",
              "  max-width: 50ex;\n",
              "  color: var(--sklearn-color-text);\n",
              "  box-shadow: 2pt 2pt 4pt #999;\n",
              "  /* unfitted */\n",
              "  background: var(--sklearn-color-unfitted-level-0);\n",
              "  border: .5pt solid var(--sklearn-color-unfitted-level-3);\n",
              "}\n",
              "\n",
              ".sk-estimator-doc-link.fitted span {\n",
              "  /* fitted */\n",
              "  background: var(--sklearn-color-fitted-level-0);\n",
              "  border: var(--sklearn-color-fitted-level-3);\n",
              "}\n",
              "\n",
              ".sk-estimator-doc-link:hover span {\n",
              "  display: block;\n",
              "}\n",
              "\n",
              "/* \"?\"-specific style due to the `<a>` HTML tag */\n",
              "\n",
              "#sk-container-id-1 a.estimator_doc_link {\n",
              "  float: right;\n",
              "  font-size: 1rem;\n",
              "  line-height: 1em;\n",
              "  font-family: monospace;\n",
              "  background-color: var(--sklearn-color-background);\n",
              "  border-radius: 1rem;\n",
              "  height: 1rem;\n",
              "  width: 1rem;\n",
              "  text-decoration: none;\n",
              "  /* unfitted */\n",
              "  color: var(--sklearn-color-unfitted-level-1);\n",
              "  border: var(--sklearn-color-unfitted-level-1) 1pt solid;\n",
              "}\n",
              "\n",
              "#sk-container-id-1 a.estimator_doc_link.fitted {\n",
              "  /* fitted */\n",
              "  border: var(--sklearn-color-fitted-level-1) 1pt solid;\n",
              "  color: var(--sklearn-color-fitted-level-1);\n",
              "}\n",
              "\n",
              "/* On hover */\n",
              "#sk-container-id-1 a.estimator_doc_link:hover {\n",
              "  /* unfitted */\n",
              "  background-color: var(--sklearn-color-unfitted-level-3);\n",
              "  color: var(--sklearn-color-background);\n",
              "  text-decoration: none;\n",
              "}\n",
              "\n",
              "#sk-container-id-1 a.estimator_doc_link.fitted:hover {\n",
              "  /* fitted */\n",
              "  background-color: var(--sklearn-color-fitted-level-3);\n",
              "}\n",
              "</style><div id=\"sk-container-id-1\" class=\"sk-top-container\"><div class=\"sk-text-repr-fallback\"><pre>RandomForestClassifier(random_state=42)</pre><b>In a Jupyter environment, please rerun this cell to show the HTML representation or trust the notebook. <br />On GitHub, the HTML representation is unable to render, please try loading this page with nbviewer.org.</b></div><div class=\"sk-container\" hidden><div class=\"sk-item\"><div class=\"sk-estimator fitted sk-toggleable\"><input class=\"sk-toggleable__control sk-hidden--visually\" id=\"sk-estimator-id-1\" type=\"checkbox\" checked><label for=\"sk-estimator-id-1\" class=\"sk-toggleable__label fitted sk-toggleable__label-arrow\"><div><div>RandomForestClassifier</div></div><div><a class=\"sk-estimator-doc-link fitted\" rel=\"noreferrer\" target=\"_blank\" href=\"https://scikit-learn.org/1.6/modules/generated/sklearn.ensemble.RandomForestClassifier.html\">?<span>Documentation for RandomForestClassifier</span></a><span class=\"sk-estimator-doc-link fitted\">i<span>Fitted</span></span></div></label><div class=\"sk-toggleable__content fitted\"><pre>RandomForestClassifier(random_state=42)</pre></div> </div></div></div></div>"
            ]
          },
          "metadata": {},
          "execution_count": 26
        }
      ]
    },
    {
      "cell_type": "markdown",
      "source": [
        "Setelah ditentukan jenis algoritma yang akan digunakan, selanjutnya memasukkan algoritma tersebut (RandomForest) dipakai untuk memprediksi data kualitas air baru"
      ],
      "metadata": {
        "id": "oThM3BMNfWGk"
      }
    },
    {
      "cell_type": "markdown",
      "source": [
        "#Evaluation\n",
        "\n",
        "Setelah model telah dikembangkan, tahap selanjutnya adalah melakukan evaluasi model dengan memasukkan data baru kedalam dataset untuk mengklasifikasi kategori kualitas air kolam untuk budidaya ikan"
      ],
      "metadata": {
        "id": "dfHu1Js1fjia"
      }
    },
    {
      "cell_type": "code",
      "source": [
        "# Prediksi data baru\n",
        "new_data = pd.DataFrame({\n",
        "    'fish': [le.transform(['pangas'])[0]],\n",
        "    'ph': [6.5],\n",
        "    'temperature': [28],\n",
        "    'turbidity': [20]\n",
        "})\n",
        "\n",
        "# Prediksi kualitas air\n",
        "hasil_prediksi = best_model.predict(new_data)\n",
        "print(\"Prediksi kualitas air:\", hasil_prediksi[0])\n"
      ],
      "metadata": {
        "id": "oy5-HVnhaRvw",
        "colab": {
          "base_uri": "https://localhost:8080/"
        },
        "outputId": "3ffa0c62-fb5c-4099-f719-7b07c6111d5a"
      },
      "execution_count": null,
      "outputs": [
        {
          "output_type": "stream",
          "name": "stdout",
          "text": [
            "Prediksi kualitas air: Good\n"
          ]
        }
      ]
    },
    {
      "cell_type": "markdown",
      "source": [
        "Pada kode diatas, dibuatkan sebuah contoh data baru berupa jenis ikan, tingkat ph, suhu, dan kekeruhan air. Kemudian, data baru tersebut diuji oleh model untuk mendapatkan kualitas air kolam dengan menganalisa tingkat ph, suhu, dan kekeruhan. Hasil yang didapatkan dari kualitas kolam tersebut adalah 'good' yang berarti kualitas air layak digunakan. Kesimpulan yang didapati adalah, pengembangan model telah berhasil dan dapat digunakan dalam klasifikasi kualitas air kolam untuk budidaya ikan."
      ],
      "metadata": {
        "id": "AGz4h84Qf0hL"
      }
    }
  ]
}